{
  "nbformat": 4,
  "nbformat_minor": 0,
  "metadata": {
    "colab": {
      "name": "Bn_face_VGG16_random_datasplit_seed_set.ipynb",
      "provenance": [],
      "collapsed_sections": [],
      "authorship_tag": "ABX9TyOoFa0CBM94/HadWn7jirMg",
      "include_colab_link": true
    },
    "kernelspec": {
      "name": "python3",
      "display_name": "Python 3"
    },
    "accelerator": "GPU"
  },
  "cells": [
    {
      "cell_type": "markdown",
      "metadata": {
        "id": "view-in-github",
        "colab_type": "text"
      },
      "source": [
        "<a href=\"https://colab.research.google.com/github/amita-kapoor/FaceRecognition/blob/master/Source/HNN/Bn_face_VGG16_random_datasplit_seed_set.ipynb\" target=\"_parent\"><img src=\"https://colab.research.google.com/assets/colab-badge.svg\" alt=\"Open In Colab\"/></a>"
      ]
    },
    {
      "cell_type": "code",
      "metadata": {
        "id": "xwK8V76GUAwC",
        "colab_type": "code",
        "colab": {}
      },
      "source": [
        "# Face recognition for home surveillance using transfer learning: Base model is VGG16 model trained on imagenet dataset. \n",
        "# training and validation data split randomly\n",
        "# seed_set"
      ],
      "execution_count": 1,
      "outputs": []
    },
    {
      "cell_type": "code",
      "metadata": {
        "id": "kluWnbZ336fd",
        "colab_type": "code",
        "colab": {}
      },
      "source": [
        "#experiment = Experiment(project_name=\"Classification model\")\n",
        "#experiment.log_other(\"random seed\", 10)"
      ],
      "execution_count": 2,
      "outputs": []
    },
    {
      "cell_type": "code",
      "metadata": {
        "id": "uGllT-HaPNpv",
        "colab_type": "code",
        "colab": {}
      },
      "source": [
        "# https://drive.google.com/file/d/16Cpr_K8wflV1SiMs3yH3KPCpyG-NwFsB/view?usp=sharing\n",
        "# random split\n",
        "# https://drive.google.com/file/d/1fjBB65hrc7iJN4hv8_djFtWGtwOxAaKz/view?usp=sharing"
      ],
      "execution_count": 3,
      "outputs": []
    },
    {
      "cell_type": "code",
      "metadata": {
        "id": "NiO7-bNpzHAg",
        "colab_type": "code",
        "colab": {
          "base_uri": "https://localhost:8080/",
          "height": 84
        },
        "outputId": "3e425026-960d-47a0-dd1e-b51aeadaac1f"
      },
      "source": [
        "!gdown --id 1fjBB65hrc7iJN4hv8_djFtWGtwOxAaKz"
      ],
      "execution_count": 4,
      "outputs": [
        {
          "output_type": "stream",
          "text": [
            "Downloading...\n",
            "From: https://drive.google.com/uc?id=1fjBB65hrc7iJN4hv8_djFtWGtwOxAaKz\n",
            "To: /content/faceImages2.zip\n",
            "64.8MB [00:01, 60.8MB/s]\n"
          ],
          "name": "stdout"
        }
      ]
    },
    {
      "cell_type": "code",
      "metadata": {
        "id": "aqLJy7NvzbBl",
        "colab_type": "code",
        "colab": {}
      },
      "source": [
        "!mkdir \"faceImages\""
      ],
      "execution_count": 5,
      "outputs": []
    },
    {
      "cell_type": "code",
      "metadata": {
        "id": "-0_-cVRszn91",
        "colab_type": "code",
        "colab": {
          "base_uri": "https://localhost:8080/",
          "height": 34
        },
        "outputId": "6f8026fe-2aba-46f2-93e1-24bee251af32"
      },
      "source": [
        "type('faceImages2.zip')"
      ],
      "execution_count": 6,
      "outputs": [
        {
          "output_type": "execute_result",
          "data": {
            "text/plain": [
              "str"
            ]
          },
          "metadata": {
            "tags": []
          },
          "execution_count": 6
        }
      ]
    },
    {
      "cell_type": "code",
      "metadata": {
        "id": "_M2ZZQyAzrw9",
        "colab_type": "code",
        "colab": {
          "base_uri": "https://localhost:8080/",
          "height": 1000
        },
        "outputId": "a7320516-1833-4a9e-db13-932de59785e8"
      },
      "source": [
        "!unzip \"/content/faceImages2.zip\" -d \"/content/faceImages/\""
      ],
      "execution_count": 7,
      "outputs": [
        {
          "output_type": "stream",
          "text": [
            "Archive:  /content/faceImages2.zip\n",
            "   creating: /content/faceImages/faceImages2/\n",
            "   creating: /content/faceImages/faceImages2/data/\n",
            "   creating: /content/faceImages/faceImages2/data/001.Ankit/\n",
            "  inflating: /content/faceImages/faceImages2/data/001.Ankit/Ankit_0001.jpg  \n",
            "  inflating: /content/faceImages/faceImages2/data/001.Ankit/Ankit_0002.jpg  \n",
            "  inflating: /content/faceImages/faceImages2/data/001.Ankit/Ankit_0004.jpg  \n",
            "  inflating: /content/faceImages/faceImages2/data/001.Ankit/Ankit_0005.jpg  \n",
            "  inflating: /content/faceImages/faceImages2/data/001.Ankit/Ankit_0006.jpg  \n",
            "  inflating: /content/faceImages/faceImages2/data/001.Ankit/Ankit_0007.jpg  \n",
            "   creating: /content/faceImages/faceImages2/data/002.Anshul/\n",
            "  inflating: /content/faceImages/faceImages2/data/002.Anshul/Anshul_0001.jpg  \n",
            "  inflating: /content/faceImages/faceImages2/data/002.Anshul/Anshul_0002.jpg  \n",
            "  inflating: /content/faceImages/faceImages2/data/002.Anshul/Anshul_0003.jpg  \n",
            "  inflating: /content/faceImages/faceImages2/data/002.Anshul/Anshul_0005.jpg  \n",
            "  inflating: /content/faceImages/faceImages2/data/002.Anshul/Anshul_0006.jpg  \n",
            "   creating: /content/faceImages/faceImages2/data/003.Bharat/\n",
            " extracting: /content/faceImages/faceImages2/data/003.Bharat/Bharat_0001.jpg  \n",
            "  inflating: /content/faceImages/faceImages2/data/003.Bharat/Bharat_0002.jpg  \n",
            " extracting: /content/faceImages/faceImages2/data/003.Bharat/Bharat_0003.jpg  \n",
            " extracting: /content/faceImages/faceImages2/data/003.Bharat/Bharat_0005.jpg  \n",
            " extracting: /content/faceImages/faceImages2/data/003.Bharat/Bharat_0006.jpg  \n",
            " extracting: /content/faceImages/faceImages2/data/003.Bharat/Bharat_0008.jpg  \n",
            "   creating: /content/faceImages/faceImages2/data/004.Birbal/\n",
            " extracting: /content/faceImages/faceImages2/data/004.Birbal/Birbal_0002.jpg  \n",
            " extracting: /content/faceImages/faceImages2/data/004.Birbal/Birbal_0003.jpg  \n",
            " extracting: /content/faceImages/faceImages2/data/004.Birbal/Birbal_0004.jpg  \n",
            " extracting: /content/faceImages/faceImages2/data/004.Birbal/Birbal_0005.jpg  \n",
            " extracting: /content/faceImages/faceImages2/data/004.Birbal/Birbal_0006.jpg  \n",
            " extracting: /content/faceImages/faceImages2/data/004.Birbal/Birbal_0008.jpg  \n",
            " extracting: /content/faceImages/faceImages2/data/004.Birbal/Birbal_0009.jpg  \n",
            "   creating: /content/faceImages/faceImages2/data/005.Greeshma/\n",
            " extracting: /content/faceImages/faceImages2/data/005.Greeshma/Greeshma_0001.jpg  \n",
            " extracting: /content/faceImages/faceImages2/data/005.Greeshma/Greeshma_0002.jpg  \n",
            " extracting: /content/faceImages/faceImages2/data/005.Greeshma/Greeshma_0003.jpg  \n",
            " extracting: /content/faceImages/faceImages2/data/005.Greeshma/Greeshma_0004.jpg  \n",
            " extracting: /content/faceImages/faceImages2/data/005.Greeshma/Greeshma_0005.jpg  \n",
            " extracting: /content/faceImages/faceImages2/data/005.Greeshma/Greeshma_0006.jpg  \n",
            "  inflating: /content/faceImages/faceImages2/data/005.Greeshma/Greeshma_0007.jpg  \n",
            "   creating: /content/faceImages/faceImages2/data/006.Kanchan/\n",
            "  inflating: /content/faceImages/faceImages2/data/006.Kanchan/Kanchan_0001.jpg  \n",
            " extracting: /content/faceImages/faceImages2/data/006.Kanchan/Kanchan_0002.jpg  \n",
            " extracting: /content/faceImages/faceImages2/data/006.Kanchan/Kanchan_0003.jpg  \n",
            "  inflating: /content/faceImages/faceImages2/data/006.Kanchan/Kanchan_0004.jpg  \n",
            " extracting: /content/faceImages/faceImages2/data/006.Kanchan/Kanchan_0006.jpg  \n",
            " extracting: /content/faceImages/faceImages2/data/006.Kanchan/Kanchan_0007.jpg  \n",
            "  inflating: /content/faceImages/faceImages2/data/006.Kanchan/Kanchan_0008.jpg  \n",
            "   creating: /content/faceImages/faceImages2/data/007.Kritika/\n",
            "  inflating: /content/faceImages/faceImages2/data/007.Kritika/Kritika_0001.jpg  \n",
            "  inflating: /content/faceImages/faceImages2/data/007.Kritika/Kritika_0002.jpg  \n",
            " extracting: /content/faceImages/faceImages2/data/007.Kritika/Kritika_0003.jpg  \n",
            " extracting: /content/faceImages/faceImages2/data/007.Kritika/Kritika_0005.jpg  \n",
            " extracting: /content/faceImages/faceImages2/data/007.Kritika/Kritika_0007.jpg  \n",
            " extracting: /content/faceImages/faceImages2/data/007.Kritika/Kritika_0008.jpg  \n",
            " extracting: /content/faceImages/faceImages2/data/007.Kritika/Kritika_0009.jpg  \n",
            "   creating: /content/faceImages/faceImages2/data/008.Lakshya/\n",
            " extracting: /content/faceImages/faceImages2/data/008.Lakshya/Lakshya_0001.jpg  \n",
            " extracting: /content/faceImages/faceImages2/data/008.Lakshya/Lakshya_0002.jpg  \n",
            " extracting: /content/faceImages/faceImages2/data/008.Lakshya/Lakshya_0003.jpg  \n",
            " extracting: /content/faceImages/faceImages2/data/008.Lakshya/Lakshya_0004.jpg  \n",
            "  inflating: /content/faceImages/faceImages2/data/008.Lakshya/Lakshya_0006.jpg  \n",
            " extracting: /content/faceImages/faceImages2/data/008.Lakshya/Lakshya_0007.jpg  \n",
            " extracting: /content/faceImages/faceImages2/data/008.Lakshya/Lakshya_0009.jpg  \n",
            "   creating: /content/faceImages/faceImages2/data/009.Mona/\n",
            " extracting: /content/faceImages/faceImages2/data/009.Mona/Mona_0001.jpg  \n",
            " extracting: /content/faceImages/faceImages2/data/009.Mona/Mona_0002.jpg  \n",
            " extracting: /content/faceImages/faceImages2/data/009.Mona/Mona_0003.jpg  \n",
            " extracting: /content/faceImages/faceImages2/data/009.Mona/Mona_0004.jpg  \n",
            " extracting: /content/faceImages/faceImages2/data/009.Mona/Mona_0007.jpg  \n",
            "   creating: /content/faceImages/faceImages2/data/010.Neelam/\n",
            " extracting: /content/faceImages/faceImages2/data/010.Neelam/Neelam_0001.jpg  \n",
            "  inflating: /content/faceImages/faceImages2/data/010.Neelam/Neelam_0003.jpg  \n",
            "  inflating: /content/faceImages/faceImages2/data/010.Neelam/Neelam_0005.jpg  \n",
            "  inflating: /content/faceImages/faceImages2/data/010.Neelam/Neelam_0006.jpg  \n",
            "  inflating: /content/faceImages/faceImages2/data/010.Neelam/Neelam_0007.jpg  \n",
            "  inflating: /content/faceImages/faceImages2/data/010.Neelam/Neelam_0008.jpg  \n",
            "   creating: /content/faceImages/faceImages2/data/011.Rakhi/\n",
            " extracting: /content/faceImages/faceImages2/data/011.Rakhi/Rakhi_0001.jpg  \n",
            " extracting: /content/faceImages/faceImages2/data/011.Rakhi/Rakhi_0002.jpg  \n",
            "  inflating: /content/faceImages/faceImages2/data/011.Rakhi/Rakhi_0003.jpg  \n",
            "  inflating: /content/faceImages/faceImages2/data/011.Rakhi/Rakhi_0004.jpg  \n",
            "  inflating: /content/faceImages/faceImages2/data/011.Rakhi/Rakhi_0005.jpg  \n",
            "  inflating: /content/faceImages/faceImages2/data/011.Rakhi/Rakhi_0008.jpg  \n",
            " extracting: /content/faceImages/faceImages2/data/011.Rakhi/Rakhi_0009.jpg  \n",
            "   creating: /content/faceImages/faceImages2/data/012.Rashi/\n",
            " extracting: /content/faceImages/faceImages2/data/012.Rashi/Rashi_0003.jpg  \n",
            " extracting: /content/faceImages/faceImages2/data/012.Rashi/Rashi_0004.jpg  \n",
            " extracting: /content/faceImages/faceImages2/data/012.Rashi/Rashi_0005.jpg  \n",
            " extracting: /content/faceImages/faceImages2/data/012.Rashi/Rashi_0006.jpg  \n",
            " extracting: /content/faceImages/faceImages2/data/012.Rashi/Rashi_0007.jpg  \n",
            " extracting: /content/faceImages/faceImages2/data/012.Rashi/Rashi_0008.jpg  \n",
            "  inflating: /content/faceImages/faceImages2/data/012.Rashi/Rashi_0009.jpg  \n",
            " extracting: /content/faceImages/faceImages2/data/012.Rashi/Rashi_0010.jpg  \n",
            "   creating: /content/faceImages/faceImages2/data/013.Rohit/\n",
            "  inflating: /content/faceImages/faceImages2/data/013.Rohit/Rohit_0002.jpg  \n",
            "  inflating: /content/faceImages/faceImages2/data/013.Rohit/Rohit_0003.jpg  \n",
            "  inflating: /content/faceImages/faceImages2/data/013.Rohit/Rohit_0004.jpg  \n",
            "  inflating: /content/faceImages/faceImages2/data/013.Rohit/Rohit_0005.jpg  \n",
            "  inflating: /content/faceImages/faceImages2/data/013.Rohit/Rohit_0006.jpg  \n",
            " extracting: /content/faceImages/faceImages2/data/013.Rohit/Rohit_0008.jpg  \n",
            "  inflating: /content/faceImages/faceImages2/data/013.Rohit/Rohit_0009.jpg  \n",
            "  inflating: /content/faceImages/faceImages2/data/013.Rohit/Rohit_0010.jpg  \n",
            "  inflating: /content/faceImages/faceImages2/data/013.Rohit/Rohit_0011.jpg  \n",
            "   creating: /content/faceImages/faceImages2/data/014.Saurabh/\n",
            "  inflating: /content/faceImages/faceImages2/data/014.Saurabh/Saurabh_0002.jpg  \n",
            "  inflating: /content/faceImages/faceImages2/data/014.Saurabh/Saurabh_0003.jpg  \n",
            "  inflating: /content/faceImages/faceImages2/data/014.Saurabh/Saurabh_0004.jpg  \n",
            "  inflating: /content/faceImages/faceImages2/data/014.Saurabh/Saurabh_0005.jpg  \n",
            "  inflating: /content/faceImages/faceImages2/data/014.Saurabh/Saurabh_0007.jpg  \n",
            "   creating: /content/faceImages/faceImages2/test/\n",
            "   creating: /content/faceImages/faceImages2/test/001.Ankit/\n",
            "  inflating: /content/faceImages/faceImages2/test/001.Ankit/Ankit_0003.jpg  \n",
            "  inflating: /content/faceImages/faceImages2/test/001.Ankit/Ankit_0008.jpg  \n",
            "   creating: /content/faceImages/faceImages2/test/002.Anshul/\n",
            " extracting: /content/faceImages/faceImages2/test/002.Anshul/Anshul_0004.jpg  \n",
            "  inflating: /content/faceImages/faceImages2/test/002.Anshul/Anshul_0007.jpg  \n",
            "   creating: /content/faceImages/faceImages2/test/003.Bharat/\n",
            " extracting: /content/faceImages/faceImages2/test/003.Bharat/Bharat_0004.jpg  \n",
            " extracting: /content/faceImages/faceImages2/test/003.Bharat/Bharat_0007.jpg  \n",
            "   creating: /content/faceImages/faceImages2/test/004.Birbal/\n",
            " extracting: /content/faceImages/faceImages2/test/004.Birbal/Birbal_0001.jpg  \n",
            " extracting: /content/faceImages/faceImages2/test/004.Birbal/Birbal_0007.jpg  \n",
            "   creating: /content/faceImages/faceImages2/test/005.Greeshma/\n",
            " extracting: /content/faceImages/faceImages2/test/005.Greeshma/Greeshma_0008.jpg  \n",
            " extracting: /content/faceImages/faceImages2/test/005.Greeshma/Greeshma_0009.jpg  \n",
            "   creating: /content/faceImages/faceImages2/test/006.Kanchan/\n",
            " extracting: /content/faceImages/faceImages2/test/006.Kanchan/Kanchan_0005.jpg  \n",
            "  inflating: /content/faceImages/faceImages2/test/006.Kanchan/Kanchan_0009.jpg  \n",
            "   creating: /content/faceImages/faceImages2/test/007.Kritika/\n",
            "  inflating: /content/faceImages/faceImages2/test/007.Kritika/Kritika_0004.jpg  \n",
            "  inflating: /content/faceImages/faceImages2/test/007.Kritika/Kritika_0006.jpg  \n",
            "   creating: /content/faceImages/faceImages2/test/008.Lakshya/\n",
            "  inflating: /content/faceImages/faceImages2/test/008.Lakshya/Lakshya_0005.jpg  \n",
            "  inflating: /content/faceImages/faceImages2/test/008.Lakshya/Lakshya_0008.jpg  \n",
            "   creating: /content/faceImages/faceImages2/test/009.Mona/\n",
            " extracting: /content/faceImages/faceImages2/test/009.Mona/Mona_0005.jpg  \n",
            "  inflating: /content/faceImages/faceImages2/test/009.Mona/Mona_0006.jpg  \n",
            "   creating: /content/faceImages/faceImages2/test/010.Neelam/\n",
            " extracting: /content/faceImages/faceImages2/test/010.Neelam/Neelam_0002.jpg  \n",
            "  inflating: /content/faceImages/faceImages2/test/010.Neelam/Neelam_0004.jpg  \n",
            "   creating: /content/faceImages/faceImages2/test/011.Rakhi/\n",
            "  inflating: /content/faceImages/faceImages2/test/011.Rakhi/Rakhi_0006.jpg  \n",
            "  inflating: /content/faceImages/faceImages2/test/011.Rakhi/Rakhi_0007.jpg  \n",
            "   creating: /content/faceImages/faceImages2/test/012.Rashi/\n",
            " extracting: /content/faceImages/faceImages2/test/012.Rashi/Rashi_0001.jpg  \n",
            " extracting: /content/faceImages/faceImages2/test/012.Rashi/Rashi_0002.jpg  \n",
            "   creating: /content/faceImages/faceImages2/test/013.Rohit/\n",
            "  inflating: /content/faceImages/faceImages2/test/013.Rohit/Rohit_0001.jpg  \n",
            " extracting: /content/faceImages/faceImages2/test/013.Rohit/Rohit_0007.jpg  \n",
            "   creating: /content/faceImages/faceImages2/test/014.Saurabh/\n",
            "  inflating: /content/faceImages/faceImages2/test/014.Saurabh/Saurabh_0001.jpg  \n",
            "  inflating: /content/faceImages/faceImages2/test/014.Saurabh/Saurabh_0006.jpg  \n"
          ],
          "name": "stdout"
        }
      ]
    },
    {
      "cell_type": "code",
      "metadata": {
        "id": "CARvV3AAzzp9",
        "colab_type": "code",
        "colab": {
          "base_uri": "https://localhost:8080/",
          "height": 34
        },
        "outputId": "ab99378c-1b4f-495b-df93-d493bc1f4203"
      },
      "source": [
        "!ls"
      ],
      "execution_count": 8,
      "outputs": [
        {
          "output_type": "stream",
          "text": [
            "faceImages  faceImages2.zip  sample_data\n"
          ],
          "name": "stdout"
        }
      ]
    },
    {
      "cell_type": "code",
      "metadata": {
        "id": "KBgT9afw4eUr",
        "colab_type": "code",
        "colab": {}
      },
      "source": [
        "# https://medium.com/@ODSC/properly-setting-the-random-seed-in-ml-experiments-not-as-simple-as-you-might-imagine-219969c84752\n",
        "seed_value = 13438"
      ],
      "execution_count": 9,
      "outputs": []
    },
    {
      "cell_type": "code",
      "metadata": {
        "id": "CC65E2Y_BUUP",
        "colab_type": "code",
        "colab": {}
      },
      "source": [
        "#from tensorflow.keras.layers import Embedding\n",
        "#from keras import backend as K\n",
        "#session_conf = tf.compat.v1.ConfigProto(intra_op_parallelism_threads=1, inter_op_parallelism_threads=1)\n",
        "#sess = tf.compat.v1.Session(graph=tf.get_default_graph(), config=session_conf)\n",
        "#K.set_session(sess)"
      ],
      "execution_count": 10,
      "outputs": []
    },
    {
      "cell_type": "code",
      "metadata": {
        "id": "6b8_bEbb0b0V",
        "colab_type": "code",
        "colab": {
          "base_uri": "https://localhost:8080/",
          "height": 34
        },
        "outputId": "f9e337a4-c1b1-41f9-ce03-f2f726caf508"
      },
      "source": [
        "import numpy as np  \n",
        "from keras.preprocessing.image import ImageDataGenerator, img_to_array, load_img  \n",
        "from keras.models import Sequential  \n",
        "from keras.layers import Dropout, Flatten, Dense  \n",
        "from keras import applications  \n",
        "from keras.utils.np_utils import to_categorical  \n",
        "import matplotlib.pyplot as plt  \n",
        "import math  \n",
        "import cv2\n",
        "import random\n",
        "random.seed(seed_value) \n",
        "\n",
        "from numpy.random import seed\n",
        "np.random.seed(seed_value)\n",
        "\n",
        "import tensorflow as tf\n",
        "tf.random.set_seed(seed_value)"
      ],
      "execution_count": 11,
      "outputs": [
        {
          "output_type": "stream",
          "text": [
            "Using TensorFlow backend.\n"
          ],
          "name": "stderr"
        }
      ]
    },
    {
      "cell_type": "code",
      "metadata": {
        "id": "3lxfUQ8LaQlA",
        "colab_type": "code",
        "colab": {
          "base_uri": "https://localhost:8080/",
          "height": 67
        },
        "outputId": "3b0d64b5-a8c1-4213-daeb-c734451b6ba3"
      },
      "source": [
        "print('Without seed')\n",
        "print(np.random.rand(4))\n",
        "print(np.random.rand(4))"
      ],
      "execution_count": 12,
      "outputs": [
        {
          "output_type": "stream",
          "text": [
            "Without seed\n",
            "[0.23485932 0.29080151 0.40393218 0.5212769 ]\n",
            "[0.23079737 0.93661399 0.52566437 0.71422455]\n"
          ],
          "name": "stdout"
        }
      ]
    },
    {
      "cell_type": "code",
      "metadata": {
        "id": "muBSJaix85fi",
        "colab_type": "code",
        "colab": {
          "base_uri": "https://localhost:8080/",
          "height": 67
        },
        "outputId": "9c7d1c7b-e9de-4528-c333-21b917378d19"
      },
      "source": [
        "print('With seed')\n",
        "np.random.seed(seed_value)\n",
        "print(np.random.rand(4))\n",
        "np.random.seed(seed_value)\n",
        "print(np.random.rand(4))"
      ],
      "execution_count": 13,
      "outputs": [
        {
          "output_type": "stream",
          "text": [
            "With seed\n",
            "[0.23485932 0.29080151 0.40393218 0.5212769 ]\n",
            "[0.23485932 0.29080151 0.40393218 0.5212769 ]\n"
          ],
          "name": "stdout"
        }
      ]
    },
    {
      "cell_type": "code",
      "metadata": {
        "id": "_2Nd5Z2R0gZJ",
        "colab_type": "code",
        "colab": {}
      },
      "source": [
        "## We then define couple of parameters,\n",
        "# dimensions of our images.  \n",
        "img_width, img_height = 224, 224  \n",
        "  \n",
        "top_model_weights_path = 'bn_fc_faces_VGG16.hdf5' \n",
        "data_dir = 'faceImages/faceImages2/data'  \n",
        "#validation_data_dir = 'faceImages/faceImages/valid'\n",
        "test_data_dir = 'faceImages/faceImages2/test'\n",
        "  \n",
        "# number of epochs to train top model  \n",
        "epochs = 200  \n",
        "# batch size used by flow_from_directory and predict_generator  \n",
        "batch_size = 32 "
      ],
      "execution_count": 14,
      "outputs": []
    },
    {
      "cell_type": "code",
      "metadata": {
        "id": "DKwj009t0qYp",
        "colab_type": "code",
        "colab": {
          "base_uri": "https://localhost:8080/",
          "height": 50
        },
        "outputId": "9bce0628-d2ad-4f5d-b9dc-e429d596f5a5"
      },
      "source": [
        "## We create the VGG16 model - without the final fully-connected layers (by specifying include_top=False) - and load the ImageNet weights,\n",
        "model = applications.VGG16(include_top=False, weights='imagenet') "
      ],
      "execution_count": 15,
      "outputs": [
        {
          "output_type": "stream",
          "text": [
            "Downloading data from https://github.com/fchollet/deep-learning-models/releases/download/v0.1/vgg16_weights_tf_dim_ordering_tf_kernels_notop.h5\n",
            "58892288/58889256 [==============================] - 1s 0us/step\n"
          ],
          "name": "stdout"
        }
      ]
    },
    {
      "cell_type": "code",
      "metadata": {
        "id": "jr1O6tfA1Il_",
        "colab_type": "code",
        "colab": {}
      },
      "source": [
        "# https://keras.io/api/preprocessing/image/\n",
        "# https://medium.com/datadriveninvestor/keras-imagedatagenerator-methods-an-easy-guide-550ecd3c0a92\n",
        "\n",
        "# ImageDataGenerator: Generate batches of tensor image data with real-time data augmentation.\n",
        "# rescale: rescaling factor. \n",
        "#        : multiply the data by the value provided (after applying all other transformations).\n",
        "#flow_from_directory Method : This method will identify classes automatically from the folder name."
      ],
      "execution_count": 16,
      "outputs": []
    },
    {
      "cell_type": "code",
      "metadata": {
        "id": "zvfTR40D05nV",
        "colab_type": "code",
        "colab": {
          "base_uri": "https://localhost:8080/",
          "height": 34
        },
        "outputId": "94e08ab2-417f-4eb4-9241-8a921d09eac5"
      },
      "source": [
        "# Save bottlenack features of training data\n",
        "## We then create the data generator for training images, and run them on the VGG16 model to save the bottleneck features for training.\n",
        "## generator.filenames contains all the filenames of the training set. By getting its length, we can get the size of the training set.\n",
        "## generator.class_indices is the map/dictionary for the class-names and their indexes. Getting its length gives us the number of classes.\n",
        "datagen = ImageDataGenerator(validation_split=0.3, rescale=1. / 255)  \n",
        "   \n",
        "generator = datagen.flow_from_directory(\n",
        "    data_dir,  \n",
        "    subset='training',\n",
        "    target_size=(img_width, img_height),  \n",
        "    batch_size=batch_size,  \n",
        "    class_mode=None,  \n",
        "    shuffle=False,\n",
        "    seed = seed_value)  \n",
        "   \n",
        "nb_train_samples = len(generator.filenames)  \n",
        "num_classes = len(generator.class_indices)  \n",
        "   \n",
        "predict_size_train = int(math.ceil(nb_train_samples / batch_size))  \n",
        "   \n",
        "bottleneck_features_train = model.predict_generator(  \n",
        "     generator, predict_size_train)  \n",
        "   \n",
        "np.savez('bn_train_faces_VGG16.npz', bottleneck_features_train)"
      ],
      "execution_count": 17,
      "outputs": [
        {
          "output_type": "stream",
          "text": [
            "Found 70 images belonging to 14 classes.\n"
          ],
          "name": "stdout"
        }
      ]
    },
    {
      "cell_type": "code",
      "metadata": {
        "id": "oflaA63o1f6t",
        "colab_type": "code",
        "colab": {
          "base_uri": "https://localhost:8080/",
          "height": 34
        },
        "outputId": "2ee0c6d8-5e73-4dad-d94e-63a5bc48fea4"
      },
      "source": [
        "# Save bottlenack features of validation data\n",
        "generator = datagen.flow_from_directory(  \n",
        "     data_dir,  \n",
        "     subset='validation',\n",
        "     target_size=(img_width, img_height),  \n",
        "     batch_size=batch_size,  \n",
        "     class_mode=None,  \n",
        "     shuffle=False,\n",
        "     seed = seed_value)  \n",
        "   \n",
        "nb_validation_samples = len(generator.filenames)  \n",
        "   \n",
        "predict_size_validation = int(math.ceil(nb_validation_samples / batch_size))  \n",
        "   \n",
        "bottleneck_features_validation = model.predict_generator(  \n",
        "     generator, predict_size_validation)  \n",
        "   \n",
        "np.savez('bn_validation_faces_VGG16.npz', bottleneck_features_validation) "
      ],
      "execution_count": 18,
      "outputs": [
        {
          "output_type": "stream",
          "text": [
            "Found 22 images belonging to 14 classes.\n"
          ],
          "name": "stdout"
        }
      ]
    },
    {
      "cell_type": "code",
      "metadata": {
        "id": "ohab3Vg31q-x",
        "colab_type": "code",
        "colab": {
          "base_uri": "https://localhost:8080/",
          "height": 34
        },
        "outputId": "bf5af9eb-c679-4f7d-e4e0-5589c47cf3b1"
      },
      "source": [
        "# Save bottlenack features of test data\n",
        "generator = datagen.flow_from_directory(  \n",
        "     test_data_dir,  \n",
        "     target_size=(img_width, img_height),  \n",
        "     batch_size=batch_size,  \n",
        "     class_mode=None,  \n",
        "     shuffle=False,\n",
        "     seed = seed_value)  \n",
        "   \n",
        "nb_test_samples = len(generator.filenames)  \n",
        "   \n",
        "predict_size_test = int(math.ceil(nb_test_samples / batch_size))  \n",
        "   \n",
        "bottleneck_features_test = model.predict_generator(  \n",
        "     generator, predict_size_test)  \n",
        "   \n",
        "np.savez('bn_test_faces_VGG16.npz', bottleneck_features_test) "
      ],
      "execution_count": 19,
      "outputs": [
        {
          "output_type": "stream",
          "text": [
            "Found 28 images belonging to 14 classes.\n"
          ],
          "name": "stdout"
        }
      ]
    },
    {
      "cell_type": "code",
      "metadata": {
        "id": "yNuMsedT1wFp",
        "colab_type": "code",
        "colab": {
          "base_uri": "https://localhost:8080/",
          "height": 171
        },
        "outputId": "c5b8e8a2-a51b-47eb-ff51-9666cf0e1c18"
      },
      "source": [
        "# convert the training labels to categorical vectors\n",
        "#datagen_top = ImageDataGenerator(validation_split=0.3, rescale=1./255)  \n",
        "generator_top = datagen.flow_from_directory(  \n",
        "         data_dir,\n",
        "         subset='training',  \n",
        "         target_size=(img_width, img_height),  \n",
        "         batch_size=batch_size,  \n",
        "         class_mode='categorical',  \n",
        "         shuffle=False, \n",
        "         seed =seed_value)  \n",
        "   \n",
        "nb_train_samples = len(generator_top.filenames)  \n",
        "num_classes = len(generator_top.class_indices)  \n",
        "print(nb_train_samples)\n",
        "print(num_classes)\n",
        "print(generator_top.class_indices)\n",
        "print(generator_top.filenames)   \n",
        "\n",
        "# load the bottleneck features saved earlier  \n",
        "train_data = np.load('bn_train_faces_VGG16.npz')  \n",
        "   \n",
        "# get the class lebels for the training data, in the original order  \n",
        "train_labels = generator_top.classes \n",
        "print(train_labels)\n",
        "   \n",
        "# convert the training labels to categorical vectors  \n",
        "train_labels = to_categorical(train_labels, num_classes=num_classes)  \n",
        "#print(train_labels[20])"
      ],
      "execution_count": 20,
      "outputs": [
        {
          "output_type": "stream",
          "text": [
            "Found 70 images belonging to 14 classes.\n",
            "70\n",
            "14\n",
            "{'001.Ankit': 0, '002.Anshul': 1, '003.Bharat': 2, '004.Birbal': 3, '005.Greeshma': 4, '006.Kanchan': 5, '007.Kritika': 6, '008.Lakshya': 7, '009.Mona': 8, '010.Neelam': 9, '011.Rakhi': 10, '012.Rashi': 11, '013.Rohit': 12, '014.Saurabh': 13}\n",
            "['001.Ankit/Ankit_0002.jpg', '001.Ankit/Ankit_0004.jpg', '001.Ankit/Ankit_0005.jpg', '001.Ankit/Ankit_0006.jpg', '001.Ankit/Ankit_0007.jpg', '002.Anshul/Anshul_0002.jpg', '002.Anshul/Anshul_0003.jpg', '002.Anshul/Anshul_0005.jpg', '002.Anshul/Anshul_0006.jpg', '003.Bharat/Bharat_0002.jpg', '003.Bharat/Bharat_0003.jpg', '003.Bharat/Bharat_0005.jpg', '003.Bharat/Bharat_0006.jpg', '003.Bharat/Bharat_0008.jpg', '004.Birbal/Birbal_0004.jpg', '004.Birbal/Birbal_0005.jpg', '004.Birbal/Birbal_0006.jpg', '004.Birbal/Birbal_0008.jpg', '004.Birbal/Birbal_0009.jpg', '005.Greeshma/Greeshma_0003.jpg', '005.Greeshma/Greeshma_0004.jpg', '005.Greeshma/Greeshma_0005.jpg', '005.Greeshma/Greeshma_0006.jpg', '005.Greeshma/Greeshma_0007.jpg', '006.Kanchan/Kanchan_0003.jpg', '006.Kanchan/Kanchan_0004.jpg', '006.Kanchan/Kanchan_0006.jpg', '006.Kanchan/Kanchan_0007.jpg', '006.Kanchan/Kanchan_0008.jpg', '007.Kritika/Kritika_0003.jpg', '007.Kritika/Kritika_0005.jpg', '007.Kritika/Kritika_0007.jpg', '007.Kritika/Kritika_0008.jpg', '007.Kritika/Kritika_0009.jpg', '008.Lakshya/Lakshya_0003.jpg', '008.Lakshya/Lakshya_0004.jpg', '008.Lakshya/Lakshya_0006.jpg', '008.Lakshya/Lakshya_0007.jpg', '008.Lakshya/Lakshya_0009.jpg', '009.Mona/Mona_0002.jpg', '009.Mona/Mona_0003.jpg', '009.Mona/Mona_0004.jpg', '009.Mona/Mona_0007.jpg', '010.Neelam/Neelam_0003.jpg', '010.Neelam/Neelam_0005.jpg', '010.Neelam/Neelam_0006.jpg', '010.Neelam/Neelam_0007.jpg', '010.Neelam/Neelam_0008.jpg', '011.Rakhi/Rakhi_0003.jpg', '011.Rakhi/Rakhi_0004.jpg', '011.Rakhi/Rakhi_0005.jpg', '011.Rakhi/Rakhi_0008.jpg', '011.Rakhi/Rakhi_0009.jpg', '012.Rashi/Rashi_0005.jpg', '012.Rashi/Rashi_0006.jpg', '012.Rashi/Rashi_0007.jpg', '012.Rashi/Rashi_0008.jpg', '012.Rashi/Rashi_0009.jpg', '012.Rashi/Rashi_0010.jpg', '013.Rohit/Rohit_0004.jpg', '013.Rohit/Rohit_0005.jpg', '013.Rohit/Rohit_0006.jpg', '013.Rohit/Rohit_0008.jpg', '013.Rohit/Rohit_0009.jpg', '013.Rohit/Rohit_0010.jpg', '013.Rohit/Rohit_0011.jpg', '014.Saurabh/Saurabh_0003.jpg', '014.Saurabh/Saurabh_0004.jpg', '014.Saurabh/Saurabh_0005.jpg', '014.Saurabh/Saurabh_0007.jpg']\n",
            "[ 0  0  0  0  0  1  1  1  1  2  2  2  2  2  3  3  3  3  3  4  4  4  4  4\n",
            "  5  5  5  5  5  6  6  6  6  6  7  7  7  7  7  8  8  8  8  9  9  9  9  9\n",
            " 10 10 10 10 10 11 11 11 11 11 11 12 12 12 12 12 12 12 13 13 13 13]\n"
          ],
          "name": "stdout"
        }
      ]
    },
    {
      "cell_type": "code",
      "metadata": {
        "id": "B1ofORAU19Sc",
        "colab_type": "code",
        "colab": {
          "base_uri": "https://localhost:8080/",
          "height": 67
        },
        "outputId": "b0ac4271-88f3-4515-b701-78df0af7c1b6"
      },
      "source": [
        "#convert the validation labels to categorical vectors\n",
        "generator_top = datagen.flow_from_directory(  \n",
        "        data_dir, \n",
        "        subset='validation', \n",
        "         target_size=(img_width, img_height),  \n",
        "         batch_size=batch_size,  \n",
        "         class_mode=None,  \n",
        "         shuffle=False, \n",
        "         seed = seed_value)  \n",
        "   \n",
        "nb_validation_samples = len(generator_top.filenames)  \n",
        "  \n",
        "validation_data = np.load('bn_validation_faces_VGG16.npz')  \n",
        "   \n",
        "validation_labels = generator_top.classes  \n",
        "print(validation_labels) \n",
        "validation_labels = to_categorical(validation_labels, num_classes=num_classes)\n",
        "#print(validation_labels) \n",
        "print(nb_validation_samples)"
      ],
      "execution_count": 21,
      "outputs": [
        {
          "output_type": "stream",
          "text": [
            "Found 22 images belonging to 14 classes.\n",
            "[ 0  1  2  3  3  4  4  5  5  6  6  7  7  8  9 10 10 11 11 12 12 13]\n",
            "22\n"
          ],
          "name": "stdout"
        }
      ]
    },
    {
      "cell_type": "code",
      "metadata": {
        "id": "Vffgx2nL2AJw",
        "colab_type": "code",
        "colab": {
          "base_uri": "https://localhost:8080/",
          "height": 67
        },
        "outputId": "6f35171a-207b-4421-d002-7fc12b463f2b"
      },
      "source": [
        "#convert the test labels to categorical vectors\n",
        "generator_top = datagen.flow_from_directory(  \n",
        "        test_data_dir,  \n",
        "         target_size=(img_width, img_height),  \n",
        "         batch_size=batch_size,  \n",
        "         class_mode=None,  \n",
        "         shuffle=False, \n",
        "         seed = seed_value)  \n",
        "   \n",
        "nb_test_samples = len(generator_top.filenames)  \n",
        "  \n",
        "test_data = np.load('bn_test_faces_VGG16.npz')  \n",
        "   \n",
        "test_labels = generator_top.classes\n",
        "print(test_labels)   \n",
        "test_labels = to_categorical(test_labels, num_classes=num_classes)"
      ],
      "execution_count": 22,
      "outputs": [
        {
          "output_type": "stream",
          "text": [
            "Found 28 images belonging to 14 classes.\n",
            "[ 0  0  1  1  2  2  3  3  4  4  5  5  6  6  7  7  8  8  9  9 10 10 11 11\n",
            " 12 12 13 13]\n"
          ],
          "name": "stdout"
        }
      ]
    },
    {
      "cell_type": "code",
      "metadata": {
        "id": "DaVrpMQy2DCF",
        "colab_type": "code",
        "colab": {
          "base_uri": "https://localhost:8080/",
          "height": 118
        },
        "outputId": "ab6efb50-0698-40b1-a5e2-ac4606208d1c"
      },
      "source": [
        "# Description of npz files\n",
        "train_data.files, validation_data.files, test_data.files, train_data['arr_0'].shape, validation_data['arr_0'].shape, test_data['arr_0'].shape"
      ],
      "execution_count": 23,
      "outputs": [
        {
          "output_type": "execute_result",
          "data": {
            "text/plain": [
              "(['arr_0'],\n",
              " ['arr_0'],\n",
              " ['arr_0'],\n",
              " (70, 7, 7, 512),\n",
              " (22, 7, 7, 512),\n",
              " (28, 7, 7, 512))"
            ]
          },
          "metadata": {
            "tags": []
          },
          "execution_count": 23
        }
      ]
    },
    {
      "cell_type": "code",
      "metadata": {
        "id": "Y7xUD8stA1jd",
        "colab_type": "code",
        "colab": {
          "base_uri": "https://localhost:8080/",
          "height": 34
        },
        "outputId": "dc1c294b-20ec-493e-cfc8-29f2f108163f"
      },
      "source": [
        "# Description of labels of dataset\n",
        "train_labels.shape, validation_labels.shape, test_labels.shape"
      ],
      "execution_count": 24,
      "outputs": [
        {
          "output_type": "execute_result",
          "data": {
            "text/plain": [
              "((70, 14), (22, 14), (28, 14))"
            ]
          },
          "metadata": {
            "tags": []
          },
          "execution_count": 24
        }
      ]
    },
    {
      "cell_type": "code",
      "metadata": {
        "id": "lssPfiBi2HBA",
        "colab_type": "code",
        "colab": {
          "base_uri": "https://localhost:8080/",
          "height": 319
        },
        "outputId": "5aba1030-5b17-4ed0-a333-b6121ec98df5"
      },
      "source": [
        "### Define your architecture.\n",
        "from keras.layers.normalization import BatchNormalization\n",
        "from keras.layers import GlobalAveragePooling2D\n",
        "from keras.layers import Dropout, Dense\n",
        "from keras.models import Sequential\n",
        "model = Sequential()\n",
        "model.add(GlobalAveragePooling2D(input_shape=train_data['arr_0'].shape[1:]))\n",
        "#model.add(Dense(400, activation='relu')) \n",
        "#model.add(Dropout(0.2))\n",
        "model.add(Dense(256, activation='relu')) \n",
        "model.add(BatchNormalization())\n",
        "model.add(Dropout(0.5, seed=seed_value))\n",
        "model.add(Dense(num_classes, activation='softmax'))\n",
        "\n",
        "model.summary()"
      ],
      "execution_count": 25,
      "outputs": [
        {
          "output_type": "stream",
          "text": [
            "Model: \"sequential_1\"\n",
            "_________________________________________________________________\n",
            "Layer (type)                 Output Shape              Param #   \n",
            "=================================================================\n",
            "global_average_pooling2d_1 ( (None, 512)               0         \n",
            "_________________________________________________________________\n",
            "dense_1 (Dense)              (None, 256)               131328    \n",
            "_________________________________________________________________\n",
            "batch_normalization_1 (Batch (None, 256)               1024      \n",
            "_________________________________________________________________\n",
            "dropout_1 (Dropout)          (None, 256)               0         \n",
            "_________________________________________________________________\n",
            "dense_2 (Dense)              (None, 14)                3598      \n",
            "=================================================================\n",
            "Total params: 135,950\n",
            "Trainable params: 135,438\n",
            "Non-trainable params: 512\n",
            "_________________________________________________________________\n"
          ],
          "name": "stdout"
        }
      ]
    },
    {
      "cell_type": "code",
      "metadata": {
        "id": "GNpg2dIQ2MtF",
        "colab_type": "code",
        "colab": {
          "base_uri": "https://localhost:8080/",
          "height": 1000
        },
        "outputId": "e5019672-6580-4f3d-c305-2ef70e7a09d4"
      },
      "source": [
        "### Compile the model.\n",
        "model.compile(loss='categorical_crossentropy', optimizer='adam', metrics=['accuracy'])\n",
        "\n",
        "### Train the model.\n",
        "from keras.callbacks import ModelCheckpoint \n",
        "checkpointer = ModelCheckpoint(filepath=top_model_weights_path, \n",
        "                               verbose=1, save_best_only=True)\n",
        "\n",
        "history = model.fit(train_data['arr_0'], train_labels,  \n",
        "          epochs=epochs,  \n",
        "          batch_size=batch_size,  \n",
        "          validation_data=(validation_data['arr_0'], validation_labels),callbacks=[checkpointer], verbose=1, shuffle=True)  \n",
        "   \n",
        "#model.save_weights(top_model_weights_path)  \n",
        "   \n",
        "(eval_loss, eval_accuracy) = model.evaluate(  \n",
        "     validation_data['arr_0'], validation_labels, batch_size=batch_size, verbose=1)\n",
        "\n",
        "print(\"[INFO] accuracy: {:.2f}%\".format(eval_accuracy * 100))  \n",
        "print(\"[INFO] Loss: {}\".format(eval_loss))"
      ],
      "execution_count": 26,
      "outputs": [
        {
          "output_type": "stream",
          "text": [
            "Train on 70 samples, validate on 22 samples\n",
            "Epoch 1/200\n",
            "70/70 [==============================] - 0s 5ms/step - loss: 3.1931 - accuracy: 0.0571 - val_loss: 2.6669 - val_accuracy: 0.0909\n",
            "\n",
            "Epoch 00001: val_loss improved from inf to 2.66689, saving model to bn_fc_faces_VGG16.hdf5\n",
            "Epoch 2/200\n",
            "70/70 [==============================] - 0s 286us/step - loss: 2.3533 - accuracy: 0.2000 - val_loss: 2.6011 - val_accuracy: 0.1818\n",
            "\n",
            "Epoch 00002: val_loss improved from 2.66689 to 2.60110, saving model to bn_fc_faces_VGG16.hdf5\n",
            "Epoch 3/200\n",
            "70/70 [==============================] - 0s 270us/step - loss: 1.7292 - accuracy: 0.4714 - val_loss: 2.5470 - val_accuracy: 0.3636\n",
            "\n",
            "Epoch 00003: val_loss improved from 2.60110 to 2.54698, saving model to bn_fc_faces_VGG16.hdf5\n",
            "Epoch 4/200\n",
            "70/70 [==============================] - 0s 262us/step - loss: 1.2708 - accuracy: 0.6429 - val_loss: 2.4984 - val_accuracy: 0.3182\n",
            "\n",
            "Epoch 00004: val_loss improved from 2.54698 to 2.49839, saving model to bn_fc_faces_VGG16.hdf5\n",
            "Epoch 5/200\n",
            "70/70 [==============================] - 0s 249us/step - loss: 0.9775 - accuracy: 0.7857 - val_loss: 2.4579 - val_accuracy: 0.2727\n",
            "\n",
            "Epoch 00005: val_loss improved from 2.49839 to 2.45791, saving model to bn_fc_faces_VGG16.hdf5\n",
            "Epoch 6/200\n",
            "70/70 [==============================] - 0s 258us/step - loss: 0.6206 - accuracy: 0.9286 - val_loss: 2.4237 - val_accuracy: 0.2273\n",
            "\n",
            "Epoch 00006: val_loss improved from 2.45791 to 2.42374, saving model to bn_fc_faces_VGG16.hdf5\n",
            "Epoch 7/200\n",
            "70/70 [==============================] - 0s 303us/step - loss: 0.5115 - accuracy: 0.9571 - val_loss: 2.3893 - val_accuracy: 0.2273\n",
            "\n",
            "Epoch 00007: val_loss improved from 2.42374 to 2.38927, saving model to bn_fc_faces_VGG16.hdf5\n",
            "Epoch 8/200\n",
            "70/70 [==============================] - 0s 294us/step - loss: 0.4535 - accuracy: 0.9143 - val_loss: 2.3552 - val_accuracy: 0.2273\n",
            "\n",
            "Epoch 00008: val_loss improved from 2.38927 to 2.35517, saving model to bn_fc_faces_VGG16.hdf5\n",
            "Epoch 9/200\n",
            "70/70 [==============================] - 0s 275us/step - loss: 0.3451 - accuracy: 0.9714 - val_loss: 2.3220 - val_accuracy: 0.2273\n",
            "\n",
            "Epoch 00009: val_loss improved from 2.35517 to 2.32197, saving model to bn_fc_faces_VGG16.hdf5\n",
            "Epoch 10/200\n",
            "70/70 [==============================] - 0s 305us/step - loss: 0.3477 - accuracy: 0.9571 - val_loss: 2.2928 - val_accuracy: 0.2273\n",
            "\n",
            "Epoch 00010: val_loss improved from 2.32197 to 2.29281, saving model to bn_fc_faces_VGG16.hdf5\n",
            "Epoch 11/200\n",
            "70/70 [==============================] - 0s 257us/step - loss: 0.2388 - accuracy: 1.0000 - val_loss: 2.2674 - val_accuracy: 0.2727\n",
            "\n",
            "Epoch 00011: val_loss improved from 2.29281 to 2.26741, saving model to bn_fc_faces_VGG16.hdf5\n",
            "Epoch 12/200\n",
            "70/70 [==============================] - 0s 278us/step - loss: 0.1871 - accuracy: 0.9857 - val_loss: 2.2432 - val_accuracy: 0.3636\n",
            "\n",
            "Epoch 00012: val_loss improved from 2.26741 to 2.24318, saving model to bn_fc_faces_VGG16.hdf5\n",
            "Epoch 13/200\n",
            "70/70 [==============================] - 0s 289us/step - loss: 0.1418 - accuracy: 1.0000 - val_loss: 2.2209 - val_accuracy: 0.4091\n",
            "\n",
            "Epoch 00013: val_loss improved from 2.24318 to 2.22090, saving model to bn_fc_faces_VGG16.hdf5\n",
            "Epoch 14/200\n",
            "70/70 [==============================] - 0s 354us/step - loss: 0.1580 - accuracy: 1.0000 - val_loss: 2.2015 - val_accuracy: 0.4091\n",
            "\n",
            "Epoch 00014: val_loss improved from 2.22090 to 2.20154, saving model to bn_fc_faces_VGG16.hdf5\n",
            "Epoch 15/200\n",
            "70/70 [==============================] - 0s 311us/step - loss: 0.1782 - accuracy: 0.9714 - val_loss: 2.1812 - val_accuracy: 0.4091\n",
            "\n",
            "Epoch 00015: val_loss improved from 2.20154 to 2.18116, saving model to bn_fc_faces_VGG16.hdf5\n",
            "Epoch 16/200\n",
            "70/70 [==============================] - 0s 287us/step - loss: 0.1259 - accuracy: 1.0000 - val_loss: 2.1628 - val_accuracy: 0.4545\n",
            "\n",
            "Epoch 00016: val_loss improved from 2.18116 to 2.16275, saving model to bn_fc_faces_VGG16.hdf5\n",
            "Epoch 17/200\n",
            "70/70 [==============================] - 0s 267us/step - loss: 0.1314 - accuracy: 0.9857 - val_loss: 2.1436 - val_accuracy: 0.4545\n",
            "\n",
            "Epoch 00017: val_loss improved from 2.16275 to 2.14362, saving model to bn_fc_faces_VGG16.hdf5\n",
            "Epoch 18/200\n",
            "70/70 [==============================] - 0s 260us/step - loss: 0.1049 - accuracy: 1.0000 - val_loss: 2.1265 - val_accuracy: 0.4545\n",
            "\n",
            "Epoch 00018: val_loss improved from 2.14362 to 2.12646, saving model to bn_fc_faces_VGG16.hdf5\n",
            "Epoch 19/200\n",
            "70/70 [==============================] - 0s 260us/step - loss: 0.0894 - accuracy: 1.0000 - val_loss: 2.1124 - val_accuracy: 0.5000\n",
            "\n",
            "Epoch 00019: val_loss improved from 2.12646 to 2.11244, saving model to bn_fc_faces_VGG16.hdf5\n",
            "Epoch 20/200\n",
            "70/70 [==============================] - 0s 253us/step - loss: 0.0970 - accuracy: 1.0000 - val_loss: 2.0997 - val_accuracy: 0.5000\n",
            "\n",
            "Epoch 00020: val_loss improved from 2.11244 to 2.09965, saving model to bn_fc_faces_VGG16.hdf5\n",
            "Epoch 21/200\n",
            "70/70 [==============================] - 0s 265us/step - loss: 0.0795 - accuracy: 1.0000 - val_loss: 2.0858 - val_accuracy: 0.5455\n",
            "\n",
            "Epoch 00021: val_loss improved from 2.09965 to 2.08578, saving model to bn_fc_faces_VGG16.hdf5\n",
            "Epoch 22/200\n",
            "70/70 [==============================] - 0s 281us/step - loss: 0.0716 - accuracy: 1.0000 - val_loss: 2.0702 - val_accuracy: 0.4545\n",
            "\n",
            "Epoch 00022: val_loss improved from 2.08578 to 2.07020, saving model to bn_fc_faces_VGG16.hdf5\n",
            "Epoch 23/200\n",
            "70/70 [==============================] - 0s 266us/step - loss: 0.0876 - accuracy: 1.0000 - val_loss: 2.0554 - val_accuracy: 0.4545\n",
            "\n",
            "Epoch 00023: val_loss improved from 2.07020 to 2.05542, saving model to bn_fc_faces_VGG16.hdf5\n",
            "Epoch 24/200\n",
            "70/70 [==============================] - 0s 252us/step - loss: 0.0656 - accuracy: 1.0000 - val_loss: 2.0426 - val_accuracy: 0.4545\n",
            "\n",
            "Epoch 00024: val_loss improved from 2.05542 to 2.04260, saving model to bn_fc_faces_VGG16.hdf5\n",
            "Epoch 25/200\n",
            "70/70 [==============================] - 0s 273us/step - loss: 0.0574 - accuracy: 1.0000 - val_loss: 2.0294 - val_accuracy: 0.4545\n",
            "\n",
            "Epoch 00025: val_loss improved from 2.04260 to 2.02942, saving model to bn_fc_faces_VGG16.hdf5\n",
            "Epoch 26/200\n",
            "70/70 [==============================] - 0s 255us/step - loss: 0.0739 - accuracy: 0.9857 - val_loss: 2.0152 - val_accuracy: 0.4545\n",
            "\n",
            "Epoch 00026: val_loss improved from 2.02942 to 2.01516, saving model to bn_fc_faces_VGG16.hdf5\n",
            "Epoch 27/200\n",
            "70/70 [==============================] - 0s 258us/step - loss: 0.0642 - accuracy: 1.0000 - val_loss: 1.9994 - val_accuracy: 0.4545\n",
            "\n",
            "Epoch 00027: val_loss improved from 2.01516 to 1.99938, saving model to bn_fc_faces_VGG16.hdf5\n",
            "Epoch 28/200\n",
            "70/70 [==============================] - 0s 266us/step - loss: 0.0670 - accuracy: 1.0000 - val_loss: 1.9833 - val_accuracy: 0.5455\n",
            "\n",
            "Epoch 00028: val_loss improved from 1.99938 to 1.98334, saving model to bn_fc_faces_VGG16.hdf5\n",
            "Epoch 29/200\n",
            "70/70 [==============================] - 0s 255us/step - loss: 0.0872 - accuracy: 1.0000 - val_loss: 1.9668 - val_accuracy: 0.5455\n",
            "\n",
            "Epoch 00029: val_loss improved from 1.98334 to 1.96681, saving model to bn_fc_faces_VGG16.hdf5\n",
            "Epoch 30/200\n",
            "70/70 [==============================] - 0s 265us/step - loss: 0.0426 - accuracy: 0.9857 - val_loss: 1.9499 - val_accuracy: 0.5455\n",
            "\n",
            "Epoch 00030: val_loss improved from 1.96681 to 1.94986, saving model to bn_fc_faces_VGG16.hdf5\n",
            "Epoch 31/200\n",
            "70/70 [==============================] - 0s 268us/step - loss: 0.0519 - accuracy: 1.0000 - val_loss: 1.9326 - val_accuracy: 0.5455\n",
            "\n",
            "Epoch 00031: val_loss improved from 1.94986 to 1.93263, saving model to bn_fc_faces_VGG16.hdf5\n",
            "Epoch 32/200\n",
            "70/70 [==============================] - 0s 304us/step - loss: 0.0288 - accuracy: 1.0000 - val_loss: 1.9141 - val_accuracy: 0.5455\n",
            "\n",
            "Epoch 00032: val_loss improved from 1.93263 to 1.91411, saving model to bn_fc_faces_VGG16.hdf5\n",
            "Epoch 33/200\n",
            "70/70 [==============================] - 0s 297us/step - loss: 0.0473 - accuracy: 1.0000 - val_loss: 1.8951 - val_accuracy: 0.6364\n",
            "\n",
            "Epoch 00033: val_loss improved from 1.91411 to 1.89506, saving model to bn_fc_faces_VGG16.hdf5\n",
            "Epoch 34/200\n",
            "70/70 [==============================] - 0s 305us/step - loss: 0.0428 - accuracy: 1.0000 - val_loss: 1.8753 - val_accuracy: 0.6364\n",
            "\n",
            "Epoch 00034: val_loss improved from 1.89506 to 1.87533, saving model to bn_fc_faces_VGG16.hdf5\n",
            "Epoch 35/200\n",
            "70/70 [==============================] - 0s 271us/step - loss: 0.0342 - accuracy: 1.0000 - val_loss: 1.8560 - val_accuracy: 0.5455\n",
            "\n",
            "Epoch 00035: val_loss improved from 1.87533 to 1.85602, saving model to bn_fc_faces_VGG16.hdf5\n",
            "Epoch 36/200\n",
            "70/70 [==============================] - 0s 268us/step - loss: 0.0360 - accuracy: 1.0000 - val_loss: 1.8377 - val_accuracy: 0.5455\n",
            "\n",
            "Epoch 00036: val_loss improved from 1.85602 to 1.83770, saving model to bn_fc_faces_VGG16.hdf5\n",
            "Epoch 37/200\n",
            "70/70 [==============================] - 0s 303us/step - loss: 0.0257 - accuracy: 1.0000 - val_loss: 1.8187 - val_accuracy: 0.5455\n",
            "\n",
            "Epoch 00037: val_loss improved from 1.83770 to 1.81867, saving model to bn_fc_faces_VGG16.hdf5\n",
            "Epoch 38/200\n",
            "70/70 [==============================] - 0s 259us/step - loss: 0.0347 - accuracy: 1.0000 - val_loss: 1.7997 - val_accuracy: 0.5909\n",
            "\n",
            "Epoch 00038: val_loss improved from 1.81867 to 1.79974, saving model to bn_fc_faces_VGG16.hdf5\n",
            "Epoch 39/200\n",
            "70/70 [==============================] - 0s 328us/step - loss: 0.0319 - accuracy: 1.0000 - val_loss: 1.7804 - val_accuracy: 0.5909\n",
            "\n",
            "Epoch 00039: val_loss improved from 1.79974 to 1.78037, saving model to bn_fc_faces_VGG16.hdf5\n",
            "Epoch 40/200\n",
            "70/70 [==============================] - 0s 268us/step - loss: 0.0317 - accuracy: 1.0000 - val_loss: 1.7608 - val_accuracy: 0.5909\n",
            "\n",
            "Epoch 00040: val_loss improved from 1.78037 to 1.76078, saving model to bn_fc_faces_VGG16.hdf5\n",
            "Epoch 41/200\n",
            "70/70 [==============================] - 0s 286us/step - loss: 0.0281 - accuracy: 1.0000 - val_loss: 1.7424 - val_accuracy: 0.6818\n",
            "\n",
            "Epoch 00041: val_loss improved from 1.76078 to 1.74238, saving model to bn_fc_faces_VGG16.hdf5\n",
            "Epoch 42/200\n",
            "70/70 [==============================] - 0s 267us/step - loss: 0.0343 - accuracy: 1.0000 - val_loss: 1.7242 - val_accuracy: 0.7273\n",
            "\n",
            "Epoch 00042: val_loss improved from 1.74238 to 1.72422, saving model to bn_fc_faces_VGG16.hdf5\n",
            "Epoch 43/200\n",
            "70/70 [==============================] - 0s 276us/step - loss: 0.0362 - accuracy: 1.0000 - val_loss: 1.7080 - val_accuracy: 0.7727\n",
            "\n",
            "Epoch 00043: val_loss improved from 1.72422 to 1.70802, saving model to bn_fc_faces_VGG16.hdf5\n",
            "Epoch 44/200\n",
            "70/70 [==============================] - 0s 272us/step - loss: 0.0398 - accuracy: 1.0000 - val_loss: 1.6907 - val_accuracy: 0.7727\n",
            "\n",
            "Epoch 00044: val_loss improved from 1.70802 to 1.69066, saving model to bn_fc_faces_VGG16.hdf5\n",
            "Epoch 45/200\n",
            "70/70 [==============================] - 0s 262us/step - loss: 0.0254 - accuracy: 1.0000 - val_loss: 1.6721 - val_accuracy: 0.7727\n",
            "\n",
            "Epoch 00045: val_loss improved from 1.69066 to 1.67209, saving model to bn_fc_faces_VGG16.hdf5\n",
            "Epoch 46/200\n",
            "70/70 [==============================] - 0s 261us/step - loss: 0.0249 - accuracy: 1.0000 - val_loss: 1.6538 - val_accuracy: 0.7727\n",
            "\n",
            "Epoch 00046: val_loss improved from 1.67209 to 1.65384, saving model to bn_fc_faces_VGG16.hdf5\n",
            "Epoch 47/200\n",
            "70/70 [==============================] - 0s 275us/step - loss: 0.0214 - accuracy: 1.0000 - val_loss: 1.6354 - val_accuracy: 0.7727\n",
            "\n",
            "Epoch 00047: val_loss improved from 1.65384 to 1.63542, saving model to bn_fc_faces_VGG16.hdf5\n",
            "Epoch 48/200\n",
            "70/70 [==============================] - 0s 259us/step - loss: 0.0205 - accuracy: 1.0000 - val_loss: 1.6164 - val_accuracy: 0.8182\n",
            "\n",
            "Epoch 00048: val_loss improved from 1.63542 to 1.61642, saving model to bn_fc_faces_VGG16.hdf5\n",
            "Epoch 49/200\n",
            "70/70 [==============================] - 0s 265us/step - loss: 0.0216 - accuracy: 1.0000 - val_loss: 1.5968 - val_accuracy: 0.8182\n",
            "\n",
            "Epoch 00049: val_loss improved from 1.61642 to 1.59681, saving model to bn_fc_faces_VGG16.hdf5\n",
            "Epoch 50/200\n",
            "70/70 [==============================] - 0s 260us/step - loss: 0.0177 - accuracy: 1.0000 - val_loss: 1.5782 - val_accuracy: 0.8182\n",
            "\n",
            "Epoch 00050: val_loss improved from 1.59681 to 1.57816, saving model to bn_fc_faces_VGG16.hdf5\n",
            "Epoch 51/200\n",
            "70/70 [==============================] - 0s 256us/step - loss: 0.0143 - accuracy: 1.0000 - val_loss: 1.5595 - val_accuracy: 0.8182\n",
            "\n",
            "Epoch 00051: val_loss improved from 1.57816 to 1.55945, saving model to bn_fc_faces_VGG16.hdf5\n",
            "Epoch 52/200\n",
            "70/70 [==============================] - 0s 288us/step - loss: 0.0408 - accuracy: 1.0000 - val_loss: 1.5416 - val_accuracy: 0.8636\n",
            "\n",
            "Epoch 00052: val_loss improved from 1.55945 to 1.54163, saving model to bn_fc_faces_VGG16.hdf5\n",
            "Epoch 53/200\n",
            "70/70 [==============================] - 0s 254us/step - loss: 0.0167 - accuracy: 1.0000 - val_loss: 1.5272 - val_accuracy: 0.8636\n",
            "\n",
            "Epoch 00053: val_loss improved from 1.54163 to 1.52715, saving model to bn_fc_faces_VGG16.hdf5\n",
            "Epoch 54/200\n",
            "70/70 [==============================] - 0s 256us/step - loss: 0.0129 - accuracy: 1.0000 - val_loss: 1.5106 - val_accuracy: 0.8636\n",
            "\n",
            "Epoch 00054: val_loss improved from 1.52715 to 1.51057, saving model to bn_fc_faces_VGG16.hdf5\n",
            "Epoch 55/200\n",
            "70/70 [==============================] - 0s 272us/step - loss: 0.0255 - accuracy: 1.0000 - val_loss: 1.4908 - val_accuracy: 0.8636\n",
            "\n",
            "Epoch 00055: val_loss improved from 1.51057 to 1.49079, saving model to bn_fc_faces_VGG16.hdf5\n",
            "Epoch 56/200\n",
            "70/70 [==============================] - 0s 279us/step - loss: 0.0240 - accuracy: 1.0000 - val_loss: 1.4688 - val_accuracy: 0.8636\n",
            "\n",
            "Epoch 00056: val_loss improved from 1.49079 to 1.46880, saving model to bn_fc_faces_VGG16.hdf5\n",
            "Epoch 57/200\n",
            "70/70 [==============================] - 0s 350us/step - loss: 0.0198 - accuracy: 1.0000 - val_loss: 1.4445 - val_accuracy: 0.8636\n",
            "\n",
            "Epoch 00057: val_loss improved from 1.46880 to 1.44446, saving model to bn_fc_faces_VGG16.hdf5\n",
            "Epoch 58/200\n",
            "70/70 [==============================] - 0s 256us/step - loss: 0.0244 - accuracy: 1.0000 - val_loss: 1.4197 - val_accuracy: 0.9545\n",
            "\n",
            "Epoch 00058: val_loss improved from 1.44446 to 1.41967, saving model to bn_fc_faces_VGG16.hdf5\n",
            "Epoch 59/200\n",
            "70/70 [==============================] - 0s 252us/step - loss: 0.0243 - accuracy: 1.0000 - val_loss: 1.3972 - val_accuracy: 0.9545\n",
            "\n",
            "Epoch 00059: val_loss improved from 1.41967 to 1.39719, saving model to bn_fc_faces_VGG16.hdf5\n",
            "Epoch 60/200\n",
            "70/70 [==============================] - 0s 256us/step - loss: 0.0297 - accuracy: 1.0000 - val_loss: 1.3746 - val_accuracy: 0.9545\n",
            "\n",
            "Epoch 00060: val_loss improved from 1.39719 to 1.37455, saving model to bn_fc_faces_VGG16.hdf5\n",
            "Epoch 61/200\n",
            "70/70 [==============================] - 0s 327us/step - loss: 0.0152 - accuracy: 1.0000 - val_loss: 1.3561 - val_accuracy: 0.9545\n",
            "\n",
            "Epoch 00061: val_loss improved from 1.37455 to 1.35606, saving model to bn_fc_faces_VGG16.hdf5\n",
            "Epoch 62/200\n",
            "70/70 [==============================] - 0s 263us/step - loss: 0.0174 - accuracy: 1.0000 - val_loss: 1.3396 - val_accuracy: 0.9091\n",
            "\n",
            "Epoch 00062: val_loss improved from 1.35606 to 1.33963, saving model to bn_fc_faces_VGG16.hdf5\n",
            "Epoch 63/200\n",
            "70/70 [==============================] - 0s 265us/step - loss: 0.0161 - accuracy: 1.0000 - val_loss: 1.3243 - val_accuracy: 0.9091\n",
            "\n",
            "Epoch 00063: val_loss improved from 1.33963 to 1.32425, saving model to bn_fc_faces_VGG16.hdf5\n",
            "Epoch 64/200\n",
            "70/70 [==============================] - 0s 270us/step - loss: 0.0248 - accuracy: 1.0000 - val_loss: 1.3059 - val_accuracy: 0.9091\n",
            "\n",
            "Epoch 00064: val_loss improved from 1.32425 to 1.30588, saving model to bn_fc_faces_VGG16.hdf5\n",
            "Epoch 65/200\n",
            "70/70 [==============================] - 0s 246us/step - loss: 0.0262 - accuracy: 1.0000 - val_loss: 1.2815 - val_accuracy: 0.9091\n",
            "\n",
            "Epoch 00065: val_loss improved from 1.30588 to 1.28152, saving model to bn_fc_faces_VGG16.hdf5\n",
            "Epoch 66/200\n",
            "70/70 [==============================] - 0s 271us/step - loss: 0.0156 - accuracy: 1.0000 - val_loss: 1.2564 - val_accuracy: 0.9091\n",
            "\n",
            "Epoch 00066: val_loss improved from 1.28152 to 1.25641, saving model to bn_fc_faces_VGG16.hdf5\n",
            "Epoch 67/200\n",
            "70/70 [==============================] - 0s 263us/step - loss: 0.0159 - accuracy: 1.0000 - val_loss: 1.2356 - val_accuracy: 0.9091\n",
            "\n",
            "Epoch 00067: val_loss improved from 1.25641 to 1.23560, saving model to bn_fc_faces_VGG16.hdf5\n",
            "Epoch 68/200\n",
            "70/70 [==============================] - 0s 264us/step - loss: 0.0188 - accuracy: 1.0000 - val_loss: 1.2153 - val_accuracy: 0.9091\n",
            "\n",
            "Epoch 00068: val_loss improved from 1.23560 to 1.21527, saving model to bn_fc_faces_VGG16.hdf5\n",
            "Epoch 69/200\n",
            "70/70 [==============================] - 0s 261us/step - loss: 0.0126 - accuracy: 1.0000 - val_loss: 1.1923 - val_accuracy: 0.9091\n",
            "\n",
            "Epoch 00069: val_loss improved from 1.21527 to 1.19233, saving model to bn_fc_faces_VGG16.hdf5\n",
            "Epoch 70/200\n",
            "70/70 [==============================] - 0s 384us/step - loss: 0.0104 - accuracy: 1.0000 - val_loss: 1.1718 - val_accuracy: 0.9545\n",
            "\n",
            "Epoch 00070: val_loss improved from 1.19233 to 1.17176, saving model to bn_fc_faces_VGG16.hdf5\n",
            "Epoch 71/200\n",
            "70/70 [==============================] - 0s 292us/step - loss: 0.0147 - accuracy: 1.0000 - val_loss: 1.1523 - val_accuracy: 0.9545\n",
            "\n",
            "Epoch 00071: val_loss improved from 1.17176 to 1.15230, saving model to bn_fc_faces_VGG16.hdf5\n",
            "Epoch 72/200\n",
            "70/70 [==============================] - 0s 261us/step - loss: 0.0153 - accuracy: 1.0000 - val_loss: 1.1332 - val_accuracy: 0.9545\n",
            "\n",
            "Epoch 00072: val_loss improved from 1.15230 to 1.13322, saving model to bn_fc_faces_VGG16.hdf5\n",
            "Epoch 73/200\n",
            "70/70 [==============================] - 0s 274us/step - loss: 0.0194 - accuracy: 1.0000 - val_loss: 1.1127 - val_accuracy: 0.9545\n",
            "\n",
            "Epoch 00073: val_loss improved from 1.13322 to 1.11272, saving model to bn_fc_faces_VGG16.hdf5\n",
            "Epoch 74/200\n",
            "70/70 [==============================] - 0s 270us/step - loss: 0.0293 - accuracy: 1.0000 - val_loss: 1.0983 - val_accuracy: 0.9545\n",
            "\n",
            "Epoch 00074: val_loss improved from 1.11272 to 1.09826, saving model to bn_fc_faces_VGG16.hdf5\n",
            "Epoch 75/200\n",
            "70/70 [==============================] - 0s 273us/step - loss: 0.0128 - accuracy: 1.0000 - val_loss: 1.0985 - val_accuracy: 0.9091\n",
            "\n",
            "Epoch 00075: val_loss did not improve from 1.09826\n",
            "Epoch 76/200\n",
            "70/70 [==============================] - 0s 261us/step - loss: 0.0121 - accuracy: 1.0000 - val_loss: 1.0991 - val_accuracy: 0.9091\n",
            "\n",
            "Epoch 00076: val_loss did not improve from 1.09826\n",
            "Epoch 77/200\n",
            "70/70 [==============================] - 0s 260us/step - loss: 0.0108 - accuracy: 1.0000 - val_loss: 1.0972 - val_accuracy: 0.9091\n",
            "\n",
            "Epoch 00077: val_loss improved from 1.09826 to 1.09720, saving model to bn_fc_faces_VGG16.hdf5\n",
            "Epoch 78/200\n",
            "70/70 [==============================] - 0s 301us/step - loss: 0.0118 - accuracy: 1.0000 - val_loss: 1.0886 - val_accuracy: 0.8182\n",
            "\n",
            "Epoch 00078: val_loss improved from 1.09720 to 1.08855, saving model to bn_fc_faces_VGG16.hdf5\n",
            "Epoch 79/200\n",
            "70/70 [==============================] - 0s 281us/step - loss: 0.0117 - accuracy: 1.0000 - val_loss: 1.0719 - val_accuracy: 0.8182\n",
            "\n",
            "Epoch 00079: val_loss improved from 1.08855 to 1.07190, saving model to bn_fc_faces_VGG16.hdf5\n",
            "Epoch 80/200\n",
            "70/70 [==============================] - 0s 249us/step - loss: 0.0138 - accuracy: 1.0000 - val_loss: 1.0589 - val_accuracy: 0.8182\n",
            "\n",
            "Epoch 00080: val_loss improved from 1.07190 to 1.05894, saving model to bn_fc_faces_VGG16.hdf5\n",
            "Epoch 81/200\n",
            "70/70 [==============================] - 0s 292us/step - loss: 0.0124 - accuracy: 1.0000 - val_loss: 1.0539 - val_accuracy: 0.8182\n",
            "\n",
            "Epoch 00081: val_loss improved from 1.05894 to 1.05386, saving model to bn_fc_faces_VGG16.hdf5\n",
            "Epoch 82/200\n",
            "70/70 [==============================] - 0s 265us/step - loss: 0.0111 - accuracy: 1.0000 - val_loss: 1.0328 - val_accuracy: 0.8182\n",
            "\n",
            "Epoch 00082: val_loss improved from 1.05386 to 1.03277, saving model to bn_fc_faces_VGG16.hdf5\n",
            "Epoch 83/200\n",
            "70/70 [==============================] - 0s 253us/step - loss: 0.0125 - accuracy: 1.0000 - val_loss: 1.0003 - val_accuracy: 0.8636\n",
            "\n",
            "Epoch 00083: val_loss improved from 1.03277 to 1.00028, saving model to bn_fc_faces_VGG16.hdf5\n",
            "Epoch 84/200\n",
            "70/70 [==============================] - 0s 259us/step - loss: 0.0099 - accuracy: 1.0000 - val_loss: 0.9734 - val_accuracy: 0.8636\n",
            "\n",
            "Epoch 00084: val_loss improved from 1.00028 to 0.97344, saving model to bn_fc_faces_VGG16.hdf5\n",
            "Epoch 85/200\n",
            "70/70 [==============================] - 0s 256us/step - loss: 0.0145 - accuracy: 1.0000 - val_loss: 0.9487 - val_accuracy: 0.8636\n",
            "\n",
            "Epoch 00085: val_loss improved from 0.97344 to 0.94872, saving model to bn_fc_faces_VGG16.hdf5\n",
            "Epoch 86/200\n",
            "70/70 [==============================] - 0s 297us/step - loss: 0.0116 - accuracy: 1.0000 - val_loss: 0.9302 - val_accuracy: 0.9545\n",
            "\n",
            "Epoch 00086: val_loss improved from 0.94872 to 0.93019, saving model to bn_fc_faces_VGG16.hdf5\n",
            "Epoch 87/200\n",
            "70/70 [==============================] - 0s 269us/step - loss: 0.0170 - accuracy: 1.0000 - val_loss: 0.9128 - val_accuracy: 0.9545\n",
            "\n",
            "Epoch 00087: val_loss improved from 0.93019 to 0.91284, saving model to bn_fc_faces_VGG16.hdf5\n",
            "Epoch 88/200\n",
            "70/70 [==============================] - 0s 251us/step - loss: 0.0084 - accuracy: 1.0000 - val_loss: 0.8971 - val_accuracy: 0.9545\n",
            "\n",
            "Epoch 00088: val_loss improved from 0.91284 to 0.89709, saving model to bn_fc_faces_VGG16.hdf5\n",
            "Epoch 89/200\n",
            "70/70 [==============================] - 0s 269us/step - loss: 0.0128 - accuracy: 1.0000 - val_loss: 0.8807 - val_accuracy: 0.9545\n",
            "\n",
            "Epoch 00089: val_loss improved from 0.89709 to 0.88074, saving model to bn_fc_faces_VGG16.hdf5\n",
            "Epoch 90/200\n",
            "70/70 [==============================] - 0s 273us/step - loss: 0.0106 - accuracy: 1.0000 - val_loss: 0.8633 - val_accuracy: 0.9545\n",
            "\n",
            "Epoch 00090: val_loss improved from 0.88074 to 0.86330, saving model to bn_fc_faces_VGG16.hdf5\n",
            "Epoch 91/200\n",
            "70/70 [==============================] - 0s 271us/step - loss: 0.0065 - accuracy: 1.0000 - val_loss: 0.8452 - val_accuracy: 0.9545\n",
            "\n",
            "Epoch 00091: val_loss improved from 0.86330 to 0.84521, saving model to bn_fc_faces_VGG16.hdf5\n",
            "Epoch 92/200\n",
            "70/70 [==============================] - 0s 274us/step - loss: 0.0069 - accuracy: 1.0000 - val_loss: 0.8275 - val_accuracy: 0.9545\n",
            "\n",
            "Epoch 00092: val_loss improved from 0.84521 to 0.82753, saving model to bn_fc_faces_VGG16.hdf5\n",
            "Epoch 93/200\n",
            "70/70 [==============================] - 0s 257us/step - loss: 0.0081 - accuracy: 1.0000 - val_loss: 0.8085 - val_accuracy: 0.9545\n",
            "\n",
            "Epoch 00093: val_loss improved from 0.82753 to 0.80850, saving model to bn_fc_faces_VGG16.hdf5\n",
            "Epoch 94/200\n",
            "70/70 [==============================] - 0s 270us/step - loss: 0.0294 - accuracy: 1.0000 - val_loss: 0.7863 - val_accuracy: 0.9545\n",
            "\n",
            "Epoch 00094: val_loss improved from 0.80850 to 0.78631, saving model to bn_fc_faces_VGG16.hdf5\n",
            "Epoch 95/200\n",
            "70/70 [==============================] - 0s 259us/step - loss: 0.0087 - accuracy: 1.0000 - val_loss: 0.7612 - val_accuracy: 0.9545\n",
            "\n",
            "Epoch 00095: val_loss improved from 0.78631 to 0.76119, saving model to bn_fc_faces_VGG16.hdf5\n",
            "Epoch 96/200\n",
            "70/70 [==============================] - 0s 358us/step - loss: 0.0130 - accuracy: 1.0000 - val_loss: 0.7418 - val_accuracy: 0.9545\n",
            "\n",
            "Epoch 00096: val_loss improved from 0.76119 to 0.74175, saving model to bn_fc_faces_VGG16.hdf5\n",
            "Epoch 97/200\n",
            "70/70 [==============================] - 0s 258us/step - loss: 0.0101 - accuracy: 1.0000 - val_loss: 0.7256 - val_accuracy: 0.9545\n",
            "\n",
            "Epoch 00097: val_loss improved from 0.74175 to 0.72558, saving model to bn_fc_faces_VGG16.hdf5\n",
            "Epoch 98/200\n",
            "70/70 [==============================] - 0s 258us/step - loss: 0.0158 - accuracy: 1.0000 - val_loss: 0.7086 - val_accuracy: 0.9545\n",
            "\n",
            "Epoch 00098: val_loss improved from 0.72558 to 0.70857, saving model to bn_fc_faces_VGG16.hdf5\n",
            "Epoch 99/200\n",
            "70/70 [==============================] - 0s 262us/step - loss: 0.0094 - accuracy: 1.0000 - val_loss: 0.6978 - val_accuracy: 0.9545\n",
            "\n",
            "Epoch 00099: val_loss improved from 0.70857 to 0.69776, saving model to bn_fc_faces_VGG16.hdf5\n",
            "Epoch 100/200\n",
            "70/70 [==============================] - 0s 374us/step - loss: 0.0077 - accuracy: 1.0000 - val_loss: 0.6852 - val_accuracy: 0.9545\n",
            "\n",
            "Epoch 00100: val_loss improved from 0.69776 to 0.68517, saving model to bn_fc_faces_VGG16.hdf5\n",
            "Epoch 101/200\n",
            "70/70 [==============================] - 0s 265us/step - loss: 0.0094 - accuracy: 1.0000 - val_loss: 0.6685 - val_accuracy: 0.9545\n",
            "\n",
            "Epoch 00101: val_loss improved from 0.68517 to 0.66851, saving model to bn_fc_faces_VGG16.hdf5\n",
            "Epoch 102/200\n",
            "70/70 [==============================] - 0s 262us/step - loss: 0.0095 - accuracy: 1.0000 - val_loss: 0.6482 - val_accuracy: 0.9545\n",
            "\n",
            "Epoch 00102: val_loss improved from 0.66851 to 0.64818, saving model to bn_fc_faces_VGG16.hdf5\n",
            "Epoch 103/200\n",
            "70/70 [==============================] - 0s 265us/step - loss: 0.0074 - accuracy: 1.0000 - val_loss: 0.6282 - val_accuracy: 0.9545\n",
            "\n",
            "Epoch 00103: val_loss improved from 0.64818 to 0.62818, saving model to bn_fc_faces_VGG16.hdf5\n",
            "Epoch 104/200\n",
            "70/70 [==============================] - 0s 255us/step - loss: 0.0078 - accuracy: 1.0000 - val_loss: 0.6089 - val_accuracy: 0.9545\n",
            "\n",
            "Epoch 00104: val_loss improved from 0.62818 to 0.60889, saving model to bn_fc_faces_VGG16.hdf5\n",
            "Epoch 105/200\n",
            "70/70 [==============================] - 0s 244us/step - loss: 0.0054 - accuracy: 1.0000 - val_loss: 0.5917 - val_accuracy: 0.9545\n",
            "\n",
            "Epoch 00105: val_loss improved from 0.60889 to 0.59168, saving model to bn_fc_faces_VGG16.hdf5\n",
            "Epoch 106/200\n",
            "70/70 [==============================] - 0s 257us/step - loss: 0.0097 - accuracy: 1.0000 - val_loss: 0.5760 - val_accuracy: 0.9545\n",
            "\n",
            "Epoch 00106: val_loss improved from 0.59168 to 0.57601, saving model to bn_fc_faces_VGG16.hdf5\n",
            "Epoch 107/200\n",
            "70/70 [==============================] - 0s 267us/step - loss: 0.0133 - accuracy: 1.0000 - val_loss: 0.5585 - val_accuracy: 0.9545\n",
            "\n",
            "Epoch 00107: val_loss improved from 0.57601 to 0.55847, saving model to bn_fc_faces_VGG16.hdf5\n",
            "Epoch 108/200\n",
            "70/70 [==============================] - 0s 268us/step - loss: 0.0466 - accuracy: 1.0000 - val_loss: 0.5360 - val_accuracy: 0.9545\n",
            "\n",
            "Epoch 00108: val_loss improved from 0.55847 to 0.53599, saving model to bn_fc_faces_VGG16.hdf5\n",
            "Epoch 109/200\n",
            "70/70 [==============================] - 0s 262us/step - loss: 0.0076 - accuracy: 1.0000 - val_loss: 0.5158 - val_accuracy: 0.9545\n",
            "\n",
            "Epoch 00109: val_loss improved from 0.53599 to 0.51580, saving model to bn_fc_faces_VGG16.hdf5\n",
            "Epoch 110/200\n",
            "70/70 [==============================] - 0s 266us/step - loss: 0.0081 - accuracy: 1.0000 - val_loss: 0.5027 - val_accuracy: 0.9545\n",
            "\n",
            "Epoch 00110: val_loss improved from 0.51580 to 0.50267, saving model to bn_fc_faces_VGG16.hdf5\n",
            "Epoch 111/200\n",
            "70/70 [==============================] - 0s 266us/step - loss: 0.0078 - accuracy: 1.0000 - val_loss: 0.4934 - val_accuracy: 0.9545\n",
            "\n",
            "Epoch 00111: val_loss improved from 0.50267 to 0.49342, saving model to bn_fc_faces_VGG16.hdf5\n",
            "Epoch 112/200\n",
            "70/70 [==============================] - 0s 266us/step - loss: 0.0086 - accuracy: 1.0000 - val_loss: 0.4827 - val_accuracy: 0.9545\n",
            "\n",
            "Epoch 00112: val_loss improved from 0.49342 to 0.48266, saving model to bn_fc_faces_VGG16.hdf5\n",
            "Epoch 113/200\n",
            "70/70 [==============================] - 0s 266us/step - loss: 0.0100 - accuracy: 1.0000 - val_loss: 0.4730 - val_accuracy: 0.9545\n",
            "\n",
            "Epoch 00113: val_loss improved from 0.48266 to 0.47300, saving model to bn_fc_faces_VGG16.hdf5\n",
            "Epoch 114/200\n",
            "70/70 [==============================] - 0s 262us/step - loss: 0.0077 - accuracy: 1.0000 - val_loss: 0.4629 - val_accuracy: 0.9545\n",
            "\n",
            "Epoch 00114: val_loss improved from 0.47300 to 0.46285, saving model to bn_fc_faces_VGG16.hdf5\n",
            "Epoch 115/200\n",
            "70/70 [==============================] - 0s 279us/step - loss: 0.0090 - accuracy: 1.0000 - val_loss: 0.4534 - val_accuracy: 0.9545\n",
            "\n",
            "Epoch 00115: val_loss improved from 0.46285 to 0.45337, saving model to bn_fc_faces_VGG16.hdf5\n",
            "Epoch 116/200\n",
            "70/70 [==============================] - 0s 297us/step - loss: 0.0101 - accuracy: 1.0000 - val_loss: 0.4425 - val_accuracy: 0.9545\n",
            "\n",
            "Epoch 00116: val_loss improved from 0.45337 to 0.44248, saving model to bn_fc_faces_VGG16.hdf5\n",
            "Epoch 117/200\n",
            "70/70 [==============================] - 0s 262us/step - loss: 0.0070 - accuracy: 1.0000 - val_loss: 0.4320 - val_accuracy: 0.9545\n",
            "\n",
            "Epoch 00117: val_loss improved from 0.44248 to 0.43202, saving model to bn_fc_faces_VGG16.hdf5\n",
            "Epoch 118/200\n",
            "70/70 [==============================] - 0s 284us/step - loss: 0.0066 - accuracy: 1.0000 - val_loss: 0.4221 - val_accuracy: 0.9545\n",
            "\n",
            "Epoch 00118: val_loss improved from 0.43202 to 0.42209, saving model to bn_fc_faces_VGG16.hdf5\n",
            "Epoch 119/200\n",
            "70/70 [==============================] - 0s 288us/step - loss: 0.0150 - accuracy: 1.0000 - val_loss: 0.4104 - val_accuracy: 0.9545\n",
            "\n",
            "Epoch 00119: val_loss improved from 0.42209 to 0.41045, saving model to bn_fc_faces_VGG16.hdf5\n",
            "Epoch 120/200\n",
            "70/70 [==============================] - 0s 298us/step - loss: 0.0118 - accuracy: 1.0000 - val_loss: 0.3979 - val_accuracy: 0.9545\n",
            "\n",
            "Epoch 00120: val_loss improved from 0.41045 to 0.39787, saving model to bn_fc_faces_VGG16.hdf5\n",
            "Epoch 121/200\n",
            "70/70 [==============================] - 0s 243us/step - loss: 0.0092 - accuracy: 1.0000 - val_loss: 0.3877 - val_accuracy: 0.9545\n",
            "\n",
            "Epoch 00121: val_loss improved from 0.39787 to 0.38774, saving model to bn_fc_faces_VGG16.hdf5\n",
            "Epoch 122/200\n",
            "70/70 [==============================] - 0s 338us/step - loss: 0.0098 - accuracy: 1.0000 - val_loss: 0.3789 - val_accuracy: 0.9545\n",
            "\n",
            "Epoch 00122: val_loss improved from 0.38774 to 0.37887, saving model to bn_fc_faces_VGG16.hdf5\n",
            "Epoch 123/200\n",
            "70/70 [==============================] - 0s 307us/step - loss: 0.0076 - accuracy: 1.0000 - val_loss: 0.3706 - val_accuracy: 0.9545\n",
            "\n",
            "Epoch 00123: val_loss improved from 0.37887 to 0.37056, saving model to bn_fc_faces_VGG16.hdf5\n",
            "Epoch 124/200\n",
            "70/70 [==============================] - 0s 299us/step - loss: 0.0099 - accuracy: 1.0000 - val_loss: 0.3648 - val_accuracy: 0.9545\n",
            "\n",
            "Epoch 00124: val_loss improved from 0.37056 to 0.36475, saving model to bn_fc_faces_VGG16.hdf5\n",
            "Epoch 125/200\n",
            "70/70 [==============================] - 0s 281us/step - loss: 0.0068 - accuracy: 1.0000 - val_loss: 0.3636 - val_accuracy: 0.9545\n",
            "\n",
            "Epoch 00125: val_loss improved from 0.36475 to 0.36363, saving model to bn_fc_faces_VGG16.hdf5\n",
            "Epoch 126/200\n",
            "70/70 [==============================] - 0s 286us/step - loss: 0.0072 - accuracy: 1.0000 - val_loss: 0.3618 - val_accuracy: 0.9545\n",
            "\n",
            "Epoch 00126: val_loss improved from 0.36363 to 0.36183, saving model to bn_fc_faces_VGG16.hdf5\n",
            "Epoch 127/200\n",
            "70/70 [==============================] - 0s 242us/step - loss: 0.0102 - accuracy: 1.0000 - val_loss: 0.3488 - val_accuracy: 0.9545\n",
            "\n",
            "Epoch 00127: val_loss improved from 0.36183 to 0.34877, saving model to bn_fc_faces_VGG16.hdf5\n",
            "Epoch 128/200\n",
            "70/70 [==============================] - 0s 259us/step - loss: 0.0047 - accuracy: 1.0000 - val_loss: 0.3309 - val_accuracy: 0.9545\n",
            "\n",
            "Epoch 00128: val_loss improved from 0.34877 to 0.33095, saving model to bn_fc_faces_VGG16.hdf5\n",
            "Epoch 129/200\n",
            "70/70 [==============================] - 0s 276us/step - loss: 0.0067 - accuracy: 1.0000 - val_loss: 0.3202 - val_accuracy: 0.9545\n",
            "\n",
            "Epoch 00129: val_loss improved from 0.33095 to 0.32020, saving model to bn_fc_faces_VGG16.hdf5\n",
            "Epoch 130/200\n",
            "70/70 [==============================] - 0s 286us/step - loss: 0.0094 - accuracy: 1.0000 - val_loss: 0.3130 - val_accuracy: 0.9545\n",
            "\n",
            "Epoch 00130: val_loss improved from 0.32020 to 0.31298, saving model to bn_fc_faces_VGG16.hdf5\n",
            "Epoch 131/200\n",
            "70/70 [==============================] - 0s 270us/step - loss: 0.0070 - accuracy: 1.0000 - val_loss: 0.3075 - val_accuracy: 0.9545\n",
            "\n",
            "Epoch 00131: val_loss improved from 0.31298 to 0.30753, saving model to bn_fc_faces_VGG16.hdf5\n",
            "Epoch 132/200\n",
            "70/70 [==============================] - 0s 260us/step - loss: 0.0089 - accuracy: 1.0000 - val_loss: 0.3020 - val_accuracy: 0.9545\n",
            "\n",
            "Epoch 00132: val_loss improved from 0.30753 to 0.30202, saving model to bn_fc_faces_VGG16.hdf5\n",
            "Epoch 133/200\n",
            "70/70 [==============================] - 0s 273us/step - loss: 0.0039 - accuracy: 1.0000 - val_loss: 0.2978 - val_accuracy: 0.9545\n",
            "\n",
            "Epoch 00133: val_loss improved from 0.30202 to 0.29785, saving model to bn_fc_faces_VGG16.hdf5\n",
            "Epoch 134/200\n",
            "70/70 [==============================] - 0s 255us/step - loss: 0.0064 - accuracy: 1.0000 - val_loss: 0.2962 - val_accuracy: 0.9545\n",
            "\n",
            "Epoch 00134: val_loss improved from 0.29785 to 0.29621, saving model to bn_fc_faces_VGG16.hdf5\n",
            "Epoch 135/200\n",
            "70/70 [==============================] - 0s 257us/step - loss: 0.0067 - accuracy: 1.0000 - val_loss: 0.2953 - val_accuracy: 0.9545\n",
            "\n",
            "Epoch 00135: val_loss improved from 0.29621 to 0.29527, saving model to bn_fc_faces_VGG16.hdf5\n",
            "Epoch 136/200\n",
            "70/70 [==============================] - 0s 281us/step - loss: 0.0099 - accuracy: 1.0000 - val_loss: 0.2912 - val_accuracy: 0.9545\n",
            "\n",
            "Epoch 00136: val_loss improved from 0.29527 to 0.29118, saving model to bn_fc_faces_VGG16.hdf5\n",
            "Epoch 137/200\n",
            "70/70 [==============================] - 0s 255us/step - loss: 0.0081 - accuracy: 1.0000 - val_loss: 0.2884 - val_accuracy: 0.9545\n",
            "\n",
            "Epoch 00137: val_loss improved from 0.29118 to 0.28845, saving model to bn_fc_faces_VGG16.hdf5\n",
            "Epoch 138/200\n",
            "70/70 [==============================] - 0s 261us/step - loss: 0.0040 - accuracy: 1.0000 - val_loss: 0.2841 - val_accuracy: 0.9545\n",
            "\n",
            "Epoch 00138: val_loss improved from 0.28845 to 0.28411, saving model to bn_fc_faces_VGG16.hdf5\n",
            "Epoch 139/200\n",
            "70/70 [==============================] - 0s 283us/step - loss: 0.0079 - accuracy: 1.0000 - val_loss: 0.2779 - val_accuracy: 0.9545\n",
            "\n",
            "Epoch 00139: val_loss improved from 0.28411 to 0.27794, saving model to bn_fc_faces_VGG16.hdf5\n",
            "Epoch 140/200\n",
            "70/70 [==============================] - 0s 267us/step - loss: 0.0060 - accuracy: 1.0000 - val_loss: 0.2730 - val_accuracy: 0.9545\n",
            "\n",
            "Epoch 00140: val_loss improved from 0.27794 to 0.27304, saving model to bn_fc_faces_VGG16.hdf5\n",
            "Epoch 141/200\n",
            "70/70 [==============================] - 0s 258us/step - loss: 0.0048 - accuracy: 1.0000 - val_loss: 0.2676 - val_accuracy: 0.9545\n",
            "\n",
            "Epoch 00141: val_loss improved from 0.27304 to 0.26760, saving model to bn_fc_faces_VGG16.hdf5\n",
            "Epoch 142/200\n",
            "70/70 [==============================] - 0s 256us/step - loss: 0.0076 - accuracy: 1.0000 - val_loss: 0.2622 - val_accuracy: 0.9545\n",
            "\n",
            "Epoch 00142: val_loss improved from 0.26760 to 0.26221, saving model to bn_fc_faces_VGG16.hdf5\n",
            "Epoch 143/200\n",
            "70/70 [==============================] - 0s 429us/step - loss: 0.0050 - accuracy: 1.0000 - val_loss: 0.2577 - val_accuracy: 0.9545\n",
            "\n",
            "Epoch 00143: val_loss improved from 0.26221 to 0.25770, saving model to bn_fc_faces_VGG16.hdf5\n",
            "Epoch 144/200\n",
            "70/70 [==============================] - 0s 292us/step - loss: 0.0065 - accuracy: 1.0000 - val_loss: 0.2515 - val_accuracy: 0.9545\n",
            "\n",
            "Epoch 00144: val_loss improved from 0.25770 to 0.25153, saving model to bn_fc_faces_VGG16.hdf5\n",
            "Epoch 145/200\n",
            "70/70 [==============================] - 0s 294us/step - loss: 0.0070 - accuracy: 1.0000 - val_loss: 0.2449 - val_accuracy: 0.9545\n",
            "\n",
            "Epoch 00145: val_loss improved from 0.25153 to 0.24494, saving model to bn_fc_faces_VGG16.hdf5\n",
            "Epoch 146/200\n",
            "70/70 [==============================] - 0s 291us/step - loss: 0.0052 - accuracy: 1.0000 - val_loss: 0.2406 - val_accuracy: 0.9545\n",
            "\n",
            "Epoch 00146: val_loss improved from 0.24494 to 0.24057, saving model to bn_fc_faces_VGG16.hdf5\n",
            "Epoch 147/200\n",
            "70/70 [==============================] - 0s 307us/step - loss: 0.0028 - accuracy: 1.0000 - val_loss: 0.2364 - val_accuracy: 0.9545\n",
            "\n",
            "Epoch 00147: val_loss improved from 0.24057 to 0.23643, saving model to bn_fc_faces_VGG16.hdf5\n",
            "Epoch 148/200\n",
            "70/70 [==============================] - 0s 323us/step - loss: 0.0029 - accuracy: 1.0000 - val_loss: 0.2325 - val_accuracy: 0.9545\n",
            "\n",
            "Epoch 00148: val_loss improved from 0.23643 to 0.23246, saving model to bn_fc_faces_VGG16.hdf5\n",
            "Epoch 149/200\n",
            "70/70 [==============================] - 0s 290us/step - loss: 0.0041 - accuracy: 1.0000 - val_loss: 0.2290 - val_accuracy: 0.9545\n",
            "\n",
            "Epoch 00149: val_loss improved from 0.23246 to 0.22902, saving model to bn_fc_faces_VGG16.hdf5\n",
            "Epoch 150/200\n",
            "70/70 [==============================] - 0s 277us/step - loss: 0.0094 - accuracy: 1.0000 - val_loss: 0.2272 - val_accuracy: 0.9545\n",
            "\n",
            "Epoch 00150: val_loss improved from 0.22902 to 0.22723, saving model to bn_fc_faces_VGG16.hdf5\n",
            "Epoch 151/200\n",
            "70/70 [==============================] - 0s 318us/step - loss: 0.0064 - accuracy: 1.0000 - val_loss: 0.2251 - val_accuracy: 0.9545\n",
            "\n",
            "Epoch 00151: val_loss improved from 0.22723 to 0.22514, saving model to bn_fc_faces_VGG16.hdf5\n",
            "Epoch 152/200\n",
            "70/70 [==============================] - 0s 293us/step - loss: 0.0089 - accuracy: 1.0000 - val_loss: 0.2215 - val_accuracy: 0.9545\n",
            "\n",
            "Epoch 00152: val_loss improved from 0.22514 to 0.22149, saving model to bn_fc_faces_VGG16.hdf5\n",
            "Epoch 153/200\n",
            "70/70 [==============================] - 0s 334us/step - loss: 0.0032 - accuracy: 1.0000 - val_loss: 0.2164 - val_accuracy: 0.9545\n",
            "\n",
            "Epoch 00153: val_loss improved from 0.22149 to 0.21643, saving model to bn_fc_faces_VGG16.hdf5\n",
            "Epoch 154/200\n",
            "70/70 [==============================] - 0s 284us/step - loss: 0.0033 - accuracy: 1.0000 - val_loss: 0.2131 - val_accuracy: 0.9545\n",
            "\n",
            "Epoch 00154: val_loss improved from 0.21643 to 0.21313, saving model to bn_fc_faces_VGG16.hdf5\n",
            "Epoch 155/200\n",
            "70/70 [==============================] - 0s 291us/step - loss: 0.0044 - accuracy: 1.0000 - val_loss: 0.2097 - val_accuracy: 0.9545\n",
            "\n",
            "Epoch 00155: val_loss improved from 0.21313 to 0.20965, saving model to bn_fc_faces_VGG16.hdf5\n",
            "Epoch 156/200\n",
            "70/70 [==============================] - 0s 277us/step - loss: 0.0046 - accuracy: 1.0000 - val_loss: 0.2074 - val_accuracy: 0.9545\n",
            "\n",
            "Epoch 00156: val_loss improved from 0.20965 to 0.20744, saving model to bn_fc_faces_VGG16.hdf5\n",
            "Epoch 157/200\n",
            "70/70 [==============================] - 0s 263us/step - loss: 0.0050 - accuracy: 1.0000 - val_loss: 0.2078 - val_accuracy: 0.9545\n",
            "\n",
            "Epoch 00157: val_loss did not improve from 0.20744\n",
            "Epoch 158/200\n",
            "70/70 [==============================] - 0s 293us/step - loss: 0.0039 - accuracy: 1.0000 - val_loss: 0.2080 - val_accuracy: 0.9545\n",
            "\n",
            "Epoch 00158: val_loss did not improve from 0.20744\n",
            "Epoch 159/200\n",
            "70/70 [==============================] - 0s 255us/step - loss: 0.0040 - accuracy: 1.0000 - val_loss: 0.2075 - val_accuracy: 0.9545\n",
            "\n",
            "Epoch 00159: val_loss did not improve from 0.20744\n",
            "Epoch 160/200\n",
            "70/70 [==============================] - 0s 254us/step - loss: 0.0037 - accuracy: 1.0000 - val_loss: 0.2060 - val_accuracy: 0.9545\n",
            "\n",
            "Epoch 00160: val_loss improved from 0.20744 to 0.20601, saving model to bn_fc_faces_VGG16.hdf5\n",
            "Epoch 161/200\n",
            "70/70 [==============================] - 0s 277us/step - loss: 0.0032 - accuracy: 1.0000 - val_loss: 0.2036 - val_accuracy: 0.9545\n",
            "\n",
            "Epoch 00161: val_loss improved from 0.20601 to 0.20363, saving model to bn_fc_faces_VGG16.hdf5\n",
            "Epoch 162/200\n",
            "70/70 [==============================] - 0s 290us/step - loss: 0.0035 - accuracy: 1.0000 - val_loss: 0.2020 - val_accuracy: 0.9545\n",
            "\n",
            "Epoch 00162: val_loss improved from 0.20363 to 0.20204, saving model to bn_fc_faces_VGG16.hdf5\n",
            "Epoch 163/200\n",
            "70/70 [==============================] - 0s 272us/step - loss: 0.0088 - accuracy: 1.0000 - val_loss: 0.1997 - val_accuracy: 0.9545\n",
            "\n",
            "Epoch 00163: val_loss improved from 0.20204 to 0.19968, saving model to bn_fc_faces_VGG16.hdf5\n",
            "Epoch 164/200\n",
            "70/70 [==============================] - 0s 264us/step - loss: 0.0044 - accuracy: 1.0000 - val_loss: 0.2013 - val_accuracy: 0.9545\n",
            "\n",
            "Epoch 00164: val_loss did not improve from 0.19968\n",
            "Epoch 165/200\n",
            "70/70 [==============================] - 0s 254us/step - loss: 0.0043 - accuracy: 1.0000 - val_loss: 0.2057 - val_accuracy: 0.9545\n",
            "\n",
            "Epoch 00165: val_loss did not improve from 0.19968\n",
            "Epoch 166/200\n",
            "70/70 [==============================] - 0s 358us/step - loss: 0.0116 - accuracy: 1.0000 - val_loss: 0.2040 - val_accuracy: 0.9545\n",
            "\n",
            "Epoch 00166: val_loss did not improve from 0.19968\n",
            "Epoch 167/200\n",
            "70/70 [==============================] - 0s 279us/step - loss: 0.0043 - accuracy: 1.0000 - val_loss: 0.1987 - val_accuracy: 0.9545\n",
            "\n",
            "Epoch 00167: val_loss improved from 0.19968 to 0.19868, saving model to bn_fc_faces_VGG16.hdf5\n",
            "Epoch 168/200\n",
            "70/70 [==============================] - 0s 267us/step - loss: 0.0037 - accuracy: 1.0000 - val_loss: 0.1972 - val_accuracy: 0.9545\n",
            "\n",
            "Epoch 00168: val_loss improved from 0.19868 to 0.19720, saving model to bn_fc_faces_VGG16.hdf5\n",
            "Epoch 169/200\n",
            "70/70 [==============================] - 0s 266us/step - loss: 0.0026 - accuracy: 1.0000 - val_loss: 0.1970 - val_accuracy: 0.9545\n",
            "\n",
            "Epoch 00169: val_loss improved from 0.19720 to 0.19701, saving model to bn_fc_faces_VGG16.hdf5\n",
            "Epoch 170/200\n",
            "70/70 [==============================] - 0s 260us/step - loss: 0.0049 - accuracy: 1.0000 - val_loss: 0.1959 - val_accuracy: 0.9545\n",
            "\n",
            "Epoch 00170: val_loss improved from 0.19701 to 0.19586, saving model to bn_fc_faces_VGG16.hdf5\n",
            "Epoch 171/200\n",
            "70/70 [==============================] - 0s 251us/step - loss: 0.0060 - accuracy: 1.0000 - val_loss: 0.1941 - val_accuracy: 0.9545\n",
            "\n",
            "Epoch 00171: val_loss improved from 0.19586 to 0.19413, saving model to bn_fc_faces_VGG16.hdf5\n",
            "Epoch 172/200\n",
            "70/70 [==============================] - 0s 272us/step - loss: 0.0033 - accuracy: 1.0000 - val_loss: 0.1933 - val_accuracy: 0.9545\n",
            "\n",
            "Epoch 00172: val_loss improved from 0.19413 to 0.19325, saving model to bn_fc_faces_VGG16.hdf5\n",
            "Epoch 173/200\n",
            "70/70 [==============================] - 0s 257us/step - loss: 0.0032 - accuracy: 1.0000 - val_loss: 0.1927 - val_accuracy: 0.9545\n",
            "\n",
            "Epoch 00173: val_loss improved from 0.19325 to 0.19274, saving model to bn_fc_faces_VGG16.hdf5\n",
            "Epoch 174/200\n",
            "70/70 [==============================] - 0s 404us/step - loss: 0.0033 - accuracy: 1.0000 - val_loss: 0.1881 - val_accuracy: 0.9545\n",
            "\n",
            "Epoch 00174: val_loss improved from 0.19274 to 0.18808, saving model to bn_fc_faces_VGG16.hdf5\n",
            "Epoch 175/200\n",
            "70/70 [==============================] - 0s 266us/step - loss: 0.0031 - accuracy: 1.0000 - val_loss: 0.1822 - val_accuracy: 0.9545\n",
            "\n",
            "Epoch 00175: val_loss improved from 0.18808 to 0.18219, saving model to bn_fc_faces_VGG16.hdf5\n",
            "Epoch 176/200\n",
            "70/70 [==============================] - 0s 266us/step - loss: 0.0028 - accuracy: 1.0000 - val_loss: 0.1767 - val_accuracy: 0.9545\n",
            "\n",
            "Epoch 00176: val_loss improved from 0.18219 to 0.17673, saving model to bn_fc_faces_VGG16.hdf5\n",
            "Epoch 177/200\n",
            "70/70 [==============================] - 0s 285us/step - loss: 0.0034 - accuracy: 1.0000 - val_loss: 0.1735 - val_accuracy: 0.9545\n",
            "\n",
            "Epoch 00177: val_loss improved from 0.17673 to 0.17354, saving model to bn_fc_faces_VGG16.hdf5\n",
            "Epoch 178/200\n",
            "70/70 [==============================] - 0s 268us/step - loss: 0.0036 - accuracy: 1.0000 - val_loss: 0.1708 - val_accuracy: 0.9545\n",
            "\n",
            "Epoch 00178: val_loss improved from 0.17354 to 0.17078, saving model to bn_fc_faces_VGG16.hdf5\n",
            "Epoch 179/200\n",
            "70/70 [==============================] - 0s 258us/step - loss: 0.0043 - accuracy: 1.0000 - val_loss: 0.1743 - val_accuracy: 0.9545\n",
            "\n",
            "Epoch 00179: val_loss did not improve from 0.17078\n",
            "Epoch 180/200\n",
            "70/70 [==============================] - 0s 260us/step - loss: 0.0037 - accuracy: 1.0000 - val_loss: 0.1895 - val_accuracy: 0.9545\n",
            "\n",
            "Epoch 00180: val_loss did not improve from 0.17078\n",
            "Epoch 181/200\n",
            "70/70 [==============================] - 0s 284us/step - loss: 0.0033 - accuracy: 1.0000 - val_loss: 0.1999 - val_accuracy: 0.9545\n",
            "\n",
            "Epoch 00181: val_loss did not improve from 0.17078\n",
            "Epoch 182/200\n",
            "70/70 [==============================] - 0s 263us/step - loss: 0.0036 - accuracy: 1.0000 - val_loss: 0.2067 - val_accuracy: 0.9545\n",
            "\n",
            "Epoch 00182: val_loss did not improve from 0.17078\n",
            "Epoch 183/200\n",
            "70/70 [==============================] - 0s 253us/step - loss: 0.0027 - accuracy: 1.0000 - val_loss: 0.2100 - val_accuracy: 0.9545\n",
            "\n",
            "Epoch 00183: val_loss did not improve from 0.17078\n",
            "Epoch 184/200\n",
            "70/70 [==============================] - 0s 313us/step - loss: 0.0020 - accuracy: 1.0000 - val_loss: 0.2112 - val_accuracy: 0.9545\n",
            "\n",
            "Epoch 00184: val_loss did not improve from 0.17078\n",
            "Epoch 185/200\n",
            "70/70 [==============================] - 0s 251us/step - loss: 0.0027 - accuracy: 1.0000 - val_loss: 0.2123 - val_accuracy: 0.9545\n",
            "\n",
            "Epoch 00185: val_loss did not improve from 0.17078\n",
            "Epoch 186/200\n",
            "70/70 [==============================] - 0s 284us/step - loss: 0.0026 - accuracy: 1.0000 - val_loss: 0.2122 - val_accuracy: 0.9545\n",
            "\n",
            "Epoch 00186: val_loss did not improve from 0.17078\n",
            "Epoch 187/200\n",
            "70/70 [==============================] - 0s 269us/step - loss: 0.0030 - accuracy: 1.0000 - val_loss: 0.2119 - val_accuracy: 0.9545\n",
            "\n",
            "Epoch 00187: val_loss did not improve from 0.17078\n",
            "Epoch 188/200\n",
            "70/70 [==============================] - 0s 345us/step - loss: 0.0013 - accuracy: 1.0000 - val_loss: 0.2113 - val_accuracy: 0.9545\n",
            "\n",
            "Epoch 00188: val_loss did not improve from 0.17078\n",
            "Epoch 189/200\n",
            "70/70 [==============================] - 0s 249us/step - loss: 0.0022 - accuracy: 1.0000 - val_loss: 0.2092 - val_accuracy: 0.9545\n",
            "\n",
            "Epoch 00189: val_loss did not improve from 0.17078\n",
            "Epoch 190/200\n",
            "70/70 [==============================] - 0s 262us/step - loss: 0.0025 - accuracy: 1.0000 - val_loss: 0.2059 - val_accuracy: 0.9545\n",
            "\n",
            "Epoch 00190: val_loss did not improve from 0.17078\n",
            "Epoch 191/200\n",
            "70/70 [==============================] - 0s 280us/step - loss: 0.0019 - accuracy: 1.0000 - val_loss: 0.2034 - val_accuracy: 0.9545\n",
            "\n",
            "Epoch 00191: val_loss did not improve from 0.17078\n",
            "Epoch 192/200\n",
            "70/70 [==============================] - 0s 269us/step - loss: 0.0042 - accuracy: 1.0000 - val_loss: 0.2025 - val_accuracy: 0.9545\n",
            "\n",
            "Epoch 00192: val_loss did not improve from 0.17078\n",
            "Epoch 193/200\n",
            "70/70 [==============================] - 0s 290us/step - loss: 0.0051 - accuracy: 1.0000 - val_loss: 0.2022 - val_accuracy: 0.9545\n",
            "\n",
            "Epoch 00193: val_loss did not improve from 0.17078\n",
            "Epoch 194/200\n",
            "70/70 [==============================] - 0s 253us/step - loss: 0.0021 - accuracy: 1.0000 - val_loss: 0.1997 - val_accuracy: 0.9545\n",
            "\n",
            "Epoch 00194: val_loss did not improve from 0.17078\n",
            "Epoch 195/200\n",
            "70/70 [==============================] - 0s 241us/step - loss: 0.0027 - accuracy: 1.0000 - val_loss: 0.1970 - val_accuracy: 0.9545\n",
            "\n",
            "Epoch 00195: val_loss did not improve from 0.17078\n",
            "Epoch 196/200\n",
            "70/70 [==============================] - 0s 315us/step - loss: 0.0021 - accuracy: 1.0000 - val_loss: 0.1921 - val_accuracy: 0.9545\n",
            "\n",
            "Epoch 00196: val_loss did not improve from 0.17078\n",
            "Epoch 197/200\n",
            "70/70 [==============================] - 0s 262us/step - loss: 0.0034 - accuracy: 1.0000 - val_loss: 0.1869 - val_accuracy: 0.9545\n",
            "\n",
            "Epoch 00197: val_loss did not improve from 0.17078\n",
            "Epoch 198/200\n",
            "70/70 [==============================] - 0s 431us/step - loss: 0.0020 - accuracy: 1.0000 - val_loss: 0.1830 - val_accuracy: 0.9545\n",
            "\n",
            "Epoch 00198: val_loss did not improve from 0.17078\n",
            "Epoch 199/200\n",
            "70/70 [==============================] - 0s 285us/step - loss: 0.0036 - accuracy: 1.0000 - val_loss: 0.1811 - val_accuracy: 0.9545\n",
            "\n",
            "Epoch 00199: val_loss did not improve from 0.17078\n",
            "Epoch 200/200\n",
            "70/70 [==============================] - 0s 272us/step - loss: 0.0034 - accuracy: 1.0000 - val_loss: 0.1781 - val_accuracy: 0.9545\n",
            "\n",
            "Epoch 00200: val_loss did not improve from 0.17078\n",
            "22/22 [==============================] - 0s 118us/step\n",
            "[INFO] accuracy: 95.45%\n",
            "[INFO] Loss: 0.1780979186296463\n"
          ],
          "name": "stdout"
        }
      ]
    },
    {
      "cell_type": "code",
      "metadata": {
        "id": "w6orODFV2WEZ",
        "colab_type": "code",
        "colab": {
          "base_uri": "https://localhost:8080/",
          "height": 295
        },
        "outputId": "d5939b97-0b8e-4570-d82b-12478006322a"
      },
      "source": [
        "plt.figure(1)  \n",
        "   \n",
        "# summarize history for accuracy  \n",
        "   \n",
        "plt.subplot(211)  \n",
        "plt.plot(history.history['accuracy'])  \n",
        "plt.plot(history.history['val_accuracy'])  \n",
        "plt.title('model accuracy')  \n",
        "plt.ylabel('accuracy')  \n",
        "plt.xlabel('epoch')  \n",
        "plt.legend(['train', 'validation'], loc='upper left')  \n",
        "   \n",
        "# summarize history for loss  \n",
        "   \n",
        "plt.subplot(212)  \n",
        "plt.plot(history.history['loss'])  \n",
        "plt.plot(history.history['val_loss'])  \n",
        "plt.title('model loss')  \n",
        "plt.ylabel('loss')  \n",
        "plt.xlabel('epoch')  \n",
        "plt.legend(['train', 'validation'], loc='upper left')  \n",
        "plt.show()"
      ],
      "execution_count": 27,
      "outputs": [
        {
          "output_type": "display_data",
          "data": {
            "image/png": "[encoded data removed]",
            "text/plain": [
              "<Figure size 432x288 with 2 Axes>"
            ]
          },
          "metadata": {
            "tags": [],
            "needs_background": "light"
          }
        }
      ]
    },
    {
      "cell_type": "code",
      "metadata": {
        "id": "HGNrv37l2e01",
        "colab_type": "code",
        "colab": {}
      },
      "source": [
        "# Calculate accuracy on test dataset\n",
        "# Define architecture\n",
        "model = Sequential()\n",
        "model.add(GlobalAveragePooling2D(input_shape=test_data['arr_0'].shape[1:]))\n",
        "#model.add(Dense(400, activation='relu')) \n",
        "#model.add(Dropout(0.2))\n",
        "model.add(Dense(256, activation='relu')) \n",
        "model.add(BatchNormalization())\n",
        "model.add(Dropout(0.5, seed=seed_value))\n",
        "model.add(Dense(num_classes, activation='softmax'))"
      ],
      "execution_count": 28,
      "outputs": []
    },
    {
      "cell_type": "code",
      "metadata": {
        "id": "dbEsCG0A2oP9",
        "colab_type": "code",
        "colab": {}
      },
      "source": [
        "#Load saved weights\n",
        "model.load_weights(top_model_weights_path)"
      ],
      "execution_count": 29,
      "outputs": []
    },
    {
      "cell_type": "code",
      "metadata": {
        "id": "QMN2Mr5r2o9V",
        "colab_type": "code",
        "colab": {
          "base_uri": "https://localhost:8080/",
          "height": 34
        },
        "outputId": "33cd1a74-cb3b-4ff1-f3fd-eaebccc36b63"
      },
      "source": [
        "### Calculate classification accuracy on the test dataset.\n",
        "model_predictions = [np.argmax(model.predict(np.expand_dims(feature, axis=0))) for feature in test_data['arr_0']]\n",
        "\n",
        "# report test accuracy\n",
        "test_accuracy = 100*np.sum(np.array(model_predictions)==np.argmax(test_labels, axis=1))/len(model_predictions)\n",
        "print('Test accuracy: %.4f%%' % test_accuracy)"
      ],
      "execution_count": 30,
      "outputs": [
        {
          "output_type": "stream",
          "text": [
            "Test accuracy: 92.8571%\n"
          ],
          "name": "stdout"
        }
      ]
    },
    {
      "cell_type": "code",
      "metadata": {
        "id": "xgp-VQu5IXVu",
        "colab_type": "code",
        "colab": {
          "base_uri": "https://localhost:8080/",
          "height": 34
        },
        "outputId": "c0bbbc09-6a08-4183-f51a-1c4a8096bbc1"
      },
      "source": [
        "len(test_data['arr_0']), len(test_labels)"
      ],
      "execution_count": 31,
      "outputs": [
        {
          "output_type": "execute_result",
          "data": {
            "text/plain": [
              "(28, 28)"
            ]
          },
          "metadata": {
            "tags": []
          },
          "execution_count": 31
        }
      ]
    },
    {
      "cell_type": "code",
      "metadata": {
        "id": "6t39EDNKQ_FY",
        "colab_type": "code",
        "colab": {
          "base_uri": "https://localhost:8080/",
          "height": 521
        },
        "outputId": "81f346e2-1f36-4260-e405-91c0f38bcdc1"
      },
      "source": [
        "print(model_predictions), test_labels"
      ],
      "execution_count": 32,
      "outputs": [
        {
          "output_type": "stream",
          "text": [
            "[0, 0, 1, 1, 2, 2, 3, 3, 4, 4, 5, 5, 4, 6, 7, 7, 8, 2, 9, 9, 10, 10, 11, 11, 12, 12, 13, 13]\n"
          ],
          "name": "stdout"
        },
        {
          "output_type": "execute_result",
          "data": {
            "text/plain": [
              "(None, array([[1., 0., 0., 0., 0., 0., 0., 0., 0., 0., 0., 0., 0., 0.],\n",
              "        [1., 0., 0., 0., 0., 0., 0., 0., 0., 0., 0., 0., 0., 0.],\n",
              "        [0., 1., 0., 0., 0., 0., 0., 0., 0., 0., 0., 0., 0., 0.],\n",
              "        [0., 1., 0., 0., 0., 0., 0., 0., 0., 0., 0., 0., 0., 0.],\n",
              "        [0., 0., 1., 0., 0., 0., 0., 0., 0., 0., 0., 0., 0., 0.],\n",
              "        [0., 0., 1., 0., 0., 0., 0., 0., 0., 0., 0., 0., 0., 0.],\n",
              "        [0., 0., 0., 1., 0., 0., 0., 0., 0., 0., 0., 0., 0., 0.],\n",
              "        [0., 0., 0., 1., 0., 0., 0., 0., 0., 0., 0., 0., 0., 0.],\n",
              "        [0., 0., 0., 0., 1., 0., 0., 0., 0., 0., 0., 0., 0., 0.],\n",
              "        [0., 0., 0., 0., 1., 0., 0., 0., 0., 0., 0., 0., 0., 0.],\n",
              "        [0., 0., 0., 0., 0., 1., 0., 0., 0., 0., 0., 0., 0., 0.],\n",
              "        [0., 0., 0., 0., 0., 1., 0., 0., 0., 0., 0., 0., 0., 0.],\n",
              "        [0., 0., 0., 0., 0., 0., 1., 0., 0., 0., 0., 0., 0., 0.],\n",
              "        [0., 0., 0., 0., 0., 0., 1., 0., 0., 0., 0., 0., 0., 0.],\n",
              "        [0., 0., 0., 0., 0., 0., 0., 1., 0., 0., 0., 0., 0., 0.],\n",
              "        [0., 0., 0., 0., 0., 0., 0., 1., 0., 0., 0., 0., 0., 0.],\n",
              "        [0., 0., 0., 0., 0., 0., 0., 0., 1., 0., 0., 0., 0., 0.],\n",
              "        [0., 0., 0., 0., 0., 0., 0., 0., 1., 0., 0., 0., 0., 0.],\n",
              "        [0., 0., 0., 0., 0., 0., 0., 0., 0., 1., 0., 0., 0., 0.],\n",
              "        [0., 0., 0., 0., 0., 0., 0., 0., 0., 1., 0., 0., 0., 0.],\n",
              "        [0., 0., 0., 0., 0., 0., 0., 0., 0., 0., 1., 0., 0., 0.],\n",
              "        [0., 0., 0., 0., 0., 0., 0., 0., 0., 0., 1., 0., 0., 0.],\n",
              "        [0., 0., 0., 0., 0., 0., 0., 0., 0., 0., 0., 1., 0., 0.],\n",
              "        [0., 0., 0., 0., 0., 0., 0., 0., 0., 0., 0., 1., 0., 0.],\n",
              "        [0., 0., 0., 0., 0., 0., 0., 0., 0., 0., 0., 0., 1., 0.],\n",
              "        [0., 0., 0., 0., 0., 0., 0., 0., 0., 0., 0., 0., 1., 0.],\n",
              "        [0., 0., 0., 0., 0., 0., 0., 0., 0., 0., 0., 0., 0., 1.],\n",
              "        [0., 0., 0., 0., 0., 0., 0., 0., 0., 0., 0., 0., 0., 1.]],\n",
              "       dtype=float32))"
            ]
          },
          "metadata": {
            "tags": []
          },
          "execution_count": 32
        }
      ]
    },
    {
      "cell_type": "code",
      "metadata": {
        "id": "GH9Q-lDK2rQ5",
        "colab_type": "code",
        "colab": {
          "base_uri": "https://localhost:8080/",
          "height": 302
        },
        "outputId": "e88ad079-607e-45e2-dbf4-c61c484efd78"
      },
      "source": [
        "# image_path = 'data/eval/Malabar_Pied_Hornbill.png'  \n",
        "image_path = '/content/faceImages/faceImages2/test/001.Ankit/Ankit_0008.jpg'\n",
        "   \n",
        "orig = cv2.imread(image_path)  \n",
        "   \n",
        "print(\"[INFO] loading and preprocessing image...\")  \n",
        "image = load_img(image_path, target_size=(224, 224))  \n",
        "image = img_to_array(image)  \n",
        "plt.imshow(image)   \n",
        "# important! otherwise the predictions will be '0'  \n",
        "image = image / 255 \n",
        "\n",
        "plt.imshow(image)   \n",
        "image = np.expand_dims(image, axis=0) "
      ],
      "execution_count": 33,
      "outputs": [
        {
          "output_type": "stream",
          "text": [
            "Clipping input data to the valid range for imshow with RGB data ([0..1] for floats or [0..255] for integers).\n"
          ],
          "name": "stderr"
        },
        {
          "output_type": "stream",
          "text": [
            "[INFO] loading and preprocessing image...\n"
          ],
          "name": "stdout"
        },
        {
          "output_type": "display_data",
          "data": {
            "image/png": "[encoded data removed]",
            "text/plain": [
              "<Figure size 432x288 with 1 Axes>"
            ]
          },
          "metadata": {
            "tags": [],
            "needs_background": "light"
          }
        }
      ]
    },
    {
      "cell_type": "code",
      "metadata": {
        "id": "T9GjbMh82vGl",
        "colab_type": "code",
        "colab": {
          "base_uri": "https://localhost:8080/",
          "height": 50
        },
        "outputId": "eef42d67-bd62-4f79-e630-a73f2eb59b55"
      },
      "source": [
        "# build the VGG16 network  \n",
        "model = applications.VGG16(include_top=False, weights='imagenet')  \n",
        "   \n",
        "# get the bottleneck prediction from the pre-trained VGG16 model  \n",
        "bottleneck_prediction = model.predict(image) \n",
        "print(bottleneck_prediction.shape)\n",
        "\n",
        "model = Sequential()\n",
        "model.add(GlobalAveragePooling2D(input_shape=bottleneck_prediction.shape[1:]))\n",
        "#model.add(Dense(400, activation='relu')) \n",
        "#model.add(Dropout(0.2))\n",
        "model.add(Dense(256, activation='relu')) \n",
        "model.add(BatchNormalization())\n",
        "model.add(Dropout(0.5, seed=seed_value))\n",
        "model.add(Dense(num_classes, activation='softmax'))\n",
        "\n",
        "model.load_weights(top_model_weights_path)  \n",
        "   \n",
        "# use the bottleneck prediction on the top model to get the final classification  \n",
        "class_predicted = model.predict_classes(bottleneck_prediction)  \n",
        "print(class_predicted)"
      ],
      "execution_count": 34,
      "outputs": [
        {
          "output_type": "stream",
          "text": [
            "(1, 7, 7, 512)\n",
            "[0]\n"
          ],
          "name": "stdout"
        }
      ]
    },
    {
      "cell_type": "code",
      "metadata": {
        "id": "6e2C8E9827Eh",
        "colab_type": "code",
        "colab": {
          "base_uri": "https://localhost:8080/",
          "height": 34
        },
        "outputId": "e124f39b-9a14-4daf-b9bf-b7ecc8e406e0"
      },
      "source": [
        "inID = class_predicted[0]  \n",
        "  \n",
        "class_dictionary = generator_top.class_indices  \n",
        "   \n",
        "inv_map = {v: k for k, v in class_dictionary.items()}  \n",
        "   \n",
        "label = inv_map[inID]  \n",
        "   \n",
        "# get the prediction label  \n",
        "print(\"Image ID: {}, Label: {}\".format(inID, label)) "
      ],
      "execution_count": 35,
      "outputs": [
        {
          "output_type": "stream",
          "text": [
            "Image ID: 0, Label: 001.Ankit\n"
          ],
          "name": "stdout"
        }
      ]
    },
    {
      "cell_type": "code",
      "metadata": {
        "id": "JPkpExC43Cot",
        "colab_type": "code",
        "colab": {}
      },
      "source": [
        ""
      ],
      "execution_count": 35,
      "outputs": []
    }
  ]
}